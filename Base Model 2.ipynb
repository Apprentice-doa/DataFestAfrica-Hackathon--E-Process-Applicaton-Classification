{
 "cells": [
  {
   "cell_type": "code",
   "execution_count": 1,
   "id": "03ece640",
   "metadata": {},
   "outputs": [
    {
     "name": "stdout",
     "output_type": "stream",
     "text": [
      "Sucessful\n"
     ]
    }
   ],
   "source": [
    "import pandas as pd\n",
    "import numpy as np\n",
    "import matplotlib.pyplot as plt\n",
    "import seaborn as sns\n",
    "\n",
    "print(\"Sucessful\")"
   ]
  },
  {
   "cell_type": "code",
   "execution_count": 2,
   "id": "8d631ba6",
   "metadata": {},
   "outputs": [],
   "source": [
    "trainset = pd.read_csv(\"Data/train.csv\")\n",
    "testset = pd.read_csv(\"Data/test.csv\")"
   ]
  },
  {
   "cell_type": "code",
   "execution_count": 3,
   "id": "7e5ba9cb",
   "metadata": {},
   "outputs": [],
   "source": [
    "trainset.pay_schedule = trainset.pay_schedule.apply(lambda x: 4.3333 if x == \"weekly\" else \n",
    "                                         2.166 if x == \"bi-weekly\" else\n",
    "                                         2 if x == \"semi-monthly\" else\n",
    "                                         1 )"
   ]
  },
  {
   "cell_type": "code",
   "execution_count": 4,
   "id": "70bddb85",
   "metadata": {},
   "outputs": [
    {
     "data": {
      "text/plain": [
       "2.1660    7447\n",
       "4.3333    2627\n",
       "2.0000    1388\n",
       "1.0000    1054\n",
       "Name: pay_schedule, dtype: int64"
      ]
     },
     "execution_count": 4,
     "metadata": {},
     "output_type": "execute_result"
    }
   ],
   "source": [
    "trainset.pay_schedule.value_counts()"
   ]
  },
  {
   "cell_type": "code",
   "execution_count": 5,
   "id": "605dd039",
   "metadata": {},
   "outputs": [],
   "source": [
    "trainset.drop(\"Entry_id\", axis = 1, inplace = True)"
   ]
  },
  {
   "cell_type": "code",
   "execution_count": 6,
   "id": "395b1f23",
   "metadata": {},
   "outputs": [],
   "source": [
    "X = trainset.drop(\"e_signed\", axis = 1)\n",
    "y = trainset[\"e_signed\"]"
   ]
  },
  {
   "cell_type": "code",
   "execution_count": 24,
   "id": "a76c2e68",
   "metadata": {},
   "outputs": [],
   "source": [
    "testset.pay_schedule = testset.pay_schedule.apply(lambda x: 4 if x == \"weekly\" else \n",
    "                                         3 if x == \"bi-weekly\" else\n",
    "                                         2 if x == \"semi-monthly\" else\n",
    "                                         1 )"
   ]
  },
  {
   "cell_type": "code",
   "execution_count": 25,
   "id": "642b61b2",
   "metadata": {},
   "outputs": [],
   "source": [
    "test = testset.drop(\"Entry_id\", axis = 1)\n",
    "sub = testset[\"Entry_id\"]"
   ]
  },
  {
   "cell_type": "code",
   "execution_count": 26,
   "id": "84052c0e",
   "metadata": {},
   "outputs": [
    {
     "data": {
      "text/plain": [
       "RandomForestClassifier()"
      ]
     },
     "execution_count": 26,
     "metadata": {},
     "output_type": "execute_result"
    }
   ],
   "source": [
    "from sklearn.ensemble import RandomForestClassifier \n",
    "\n",
    "rfmodel = RandomForestClassifier()\n",
    "\n",
    "rfmodel.fit(X,y)\n"
   ]
  },
  {
   "cell_type": "code",
   "execution_count": 27,
   "id": "bbcaa2d5",
   "metadata": {},
   "outputs": [
    {
     "name": "stdout",
     "output_type": "stream",
     "text": [
      "[0.5390583431030918, 0.508661068961797, 0.5271736676899934, 0.5125321485451354, 0.5072226061457606, 0.5133927866739973, 0.4965293159441364, 0.541545570410778, 0.5296814438860347, 0.5133363649132081, 0.6396637135011771, 0.5178824705069115, 0.4965566394176678, 0.5090462430799423, 0.5023524414285601, 0.4915047841081572, 0.4941409486232461, 0.4936524119092465, 0.5038081727820157]\n"
     ]
    }
   ],
   "source": [
    "from sklearn.model_selection import cross_val_score\n",
    "lt =  []\n",
    "for feature in X.columns:\n",
    "    scores = cross_val_score(rfmodel,X[feature].values.reshape(-1,1),y,scoring = \"roc_auc\", cv = 5)\n",
    "    lt.append(scores.mean())\n",
    "        \n",
    "print(lt)"
   ]
  },
  {
   "cell_type": "code",
   "execution_count": 18,
   "id": "60e71260",
   "metadata": {},
   "outputs": [
    {
     "data": {
      "text/plain": [
       "Index(['age', 'pay_schedule', 'home_owner', 'income', 'months_employed',\n",
       "       'years_employed', 'current_address_year', 'personal_account_m',\n",
       "       'personal_account_y', 'has_debt', 'amount_requested', 'risk_score',\n",
       "       'risk_score_2', 'risk_score_3', 'risk_score_4', 'risk_score_5',\n",
       "       'ext_quality_score', 'ext_quality_score_2', 'inquiries_last_month'],\n",
       "      dtype='object')"
      ]
     },
     "execution_count": 18,
     "metadata": {},
     "output_type": "execute_result"
    }
   ],
   "source": [
    "X.columns"
   ]
  },
  {
   "cell_type": "code",
   "execution_count": 28,
   "id": "02e1f52e",
   "metadata": {},
   "outputs": [
    {
     "data": {
      "text/html": [
       "<div>\n",
       "<style scoped>\n",
       "    .dataframe tbody tr th:only-of-type {\n",
       "        vertical-align: middle;\n",
       "    }\n",
       "\n",
       "    .dataframe tbody tr th {\n",
       "        vertical-align: top;\n",
       "    }\n",
       "\n",
       "    .dataframe thead th {\n",
       "        text-align: right;\n",
       "    }\n",
       "</style>\n",
       "<table border=\"1\" class=\"dataframe\">\n",
       "  <thead>\n",
       "    <tr style=\"text-align: right;\">\n",
       "      <th></th>\n",
       "      <th>Entry_id</th>\n",
       "      <th>e_signed</th>\n",
       "    </tr>\n",
       "  </thead>\n",
       "  <tbody>\n",
       "    <tr>\n",
       "      <th>10</th>\n",
       "      <td>amount_requested</td>\n",
       "      <td>0.639664</td>\n",
       "    </tr>\n",
       "    <tr>\n",
       "      <th>7</th>\n",
       "      <td>personal_account_m</td>\n",
       "      <td>0.541546</td>\n",
       "    </tr>\n",
       "    <tr>\n",
       "      <th>0</th>\n",
       "      <td>age</td>\n",
       "      <td>0.539058</td>\n",
       "    </tr>\n",
       "    <tr>\n",
       "      <th>8</th>\n",
       "      <td>personal_account_y</td>\n",
       "      <td>0.529681</td>\n",
       "    </tr>\n",
       "    <tr>\n",
       "      <th>2</th>\n",
       "      <td>home_owner</td>\n",
       "      <td>0.527174</td>\n",
       "    </tr>\n",
       "    <tr>\n",
       "      <th>11</th>\n",
       "      <td>risk_score</td>\n",
       "      <td>0.517882</td>\n",
       "    </tr>\n",
       "    <tr>\n",
       "      <th>5</th>\n",
       "      <td>years_employed</td>\n",
       "      <td>0.513393</td>\n",
       "    </tr>\n",
       "    <tr>\n",
       "      <th>9</th>\n",
       "      <td>has_debt</td>\n",
       "      <td>0.513336</td>\n",
       "    </tr>\n",
       "    <tr>\n",
       "      <th>3</th>\n",
       "      <td>income</td>\n",
       "      <td>0.512532</td>\n",
       "    </tr>\n",
       "    <tr>\n",
       "      <th>13</th>\n",
       "      <td>risk_score_3</td>\n",
       "      <td>0.509046</td>\n",
       "    </tr>\n",
       "    <tr>\n",
       "      <th>1</th>\n",
       "      <td>pay_schedule</td>\n",
       "      <td>0.508661</td>\n",
       "    </tr>\n",
       "    <tr>\n",
       "      <th>4</th>\n",
       "      <td>months_employed</td>\n",
       "      <td>0.507223</td>\n",
       "    </tr>\n",
       "    <tr>\n",
       "      <th>18</th>\n",
       "      <td>inquiries_last_month</td>\n",
       "      <td>0.503808</td>\n",
       "    </tr>\n",
       "    <tr>\n",
       "      <th>14</th>\n",
       "      <td>risk_score_4</td>\n",
       "      <td>0.502352</td>\n",
       "    </tr>\n",
       "    <tr>\n",
       "      <th>12</th>\n",
       "      <td>risk_score_2</td>\n",
       "      <td>0.496557</td>\n",
       "    </tr>\n",
       "    <tr>\n",
       "      <th>6</th>\n",
       "      <td>current_address_year</td>\n",
       "      <td>0.496529</td>\n",
       "    </tr>\n",
       "    <tr>\n",
       "      <th>16</th>\n",
       "      <td>ext_quality_score</td>\n",
       "      <td>0.494141</td>\n",
       "    </tr>\n",
       "    <tr>\n",
       "      <th>17</th>\n",
       "      <td>ext_quality_score_2</td>\n",
       "      <td>0.493652</td>\n",
       "    </tr>\n",
       "    <tr>\n",
       "      <th>15</th>\n",
       "      <td>risk_score_5</td>\n",
       "      <td>0.491505</td>\n",
       "    </tr>\n",
       "  </tbody>\n",
       "</table>\n",
       "</div>"
      ],
      "text/plain": [
       "                Entry_id  e_signed\n",
       "10      amount_requested  0.639664\n",
       "7     personal_account_m  0.541546\n",
       "0                    age  0.539058\n",
       "8     personal_account_y  0.529681\n",
       "2             home_owner  0.527174\n",
       "11            risk_score  0.517882\n",
       "5         years_employed  0.513393\n",
       "9               has_debt  0.513336\n",
       "3                 income  0.512532\n",
       "13          risk_score_3  0.509046\n",
       "1           pay_schedule  0.508661\n",
       "4        months_employed  0.507223\n",
       "18  inquiries_last_month  0.503808\n",
       "14          risk_score_4  0.502352\n",
       "12          risk_score_2  0.496557\n",
       "6   current_address_year  0.496529\n",
       "16     ext_quality_score  0.494141\n",
       "17   ext_quality_score_2  0.493652\n",
       "15          risk_score_5  0.491505"
      ]
     },
     "execution_count": 28,
     "metadata": {},
     "output_type": "execute_result"
    }
   ],
   "source": [
    "fe = pd.DataFrame({\"Entry_id\":X.columns,\"e_signed\":lt})\n",
    "fe.sort_values(\"e_signed\", ascending = False)"
   ]
  },
  {
   "cell_type": "code",
   "execution_count": 12,
   "id": "b329beac",
   "metadata": {},
   "outputs": [],
   "source": [
    "sub4 = pd.DataFrame({\"Entry_id\":testset.Entry_id,\"e_signed\":test_pred4})\n",
    "sub4.to_csv(\"Data/sub4.csv\", index=False)\n",
    "\n"
   ]
  },
  {
   "cell_type": "markdown",
   "id": "b65e2ce3",
   "metadata": {},
   "source": [
    "score: 0.630"
   ]
  },
  {
   "cell_type": "code",
   "execution_count": 13,
   "id": "d73ffe5a",
   "metadata": {},
   "outputs": [
    {
     "data": {
      "text/plain": [
       "<catboost.core.CatBoostClassifier at 0x2469eff8760>"
      ]
     },
     "execution_count": 13,
     "metadata": {},
     "output_type": "execute_result"
    }
   ],
   "source": [
    "import catboost as ctb\n",
    "\n",
    "\n",
    "ctbmodel = ctb.CatBoostClassifier()\n",
    "\n",
    "ctbmodel.fit(X,y, silent = True)\n",
    "\n"
   ]
  },
  {
   "cell_type": "code",
   "execution_count": 14,
   "id": "939fb1bb",
   "metadata": {},
   "outputs": [],
   "source": [
    "test_pred3 = ctbmodel.predict(test)"
   ]
  },
  {
   "cell_type": "code",
   "execution_count": 15,
   "id": "6a755c45",
   "metadata": {},
   "outputs": [],
   "source": [
    "sub5 = pd.DataFrame({\"Entry_id\":testset.Entry_id,\"e_signed\":test_pred3})\n",
    "sub5.to_csv(\"Data/sub5.csv\", index=False)"
   ]
  },
  {
   "cell_type": "markdown",
   "id": "f9fde39f",
   "metadata": {},
   "source": [
    "score: 0.6513"
   ]
  },
  {
   "cell_type": "code",
   "execution_count": 18,
   "id": "53adcd03",
   "metadata": {},
   "outputs": [
    {
     "name": "stdout",
     "output_type": "stream",
     "text": [
      "Collecting xgboost\n",
      "  Downloading xgboost-1.6.2-py3-none-win_amd64.whl (125.4 MB)\n",
      "Requirement already satisfied: scipy in c:\\users\\cypher\\anaconda3\\lib\\site-packages (from xgboost) (1.7.1)\n",
      "Requirement already satisfied: numpy in c:\\users\\cypher\\anaconda3\\lib\\site-packages (from xgboost) (1.20.3)\n",
      "Installing collected packages: xgboost\n",
      "Successfully installed xgboost-1.6.2\n"
     ]
    }
   ],
   "source": [
    "!pip install xgboost\n"
   ]
  },
  {
   "cell_type": "code",
   "execution_count": 22,
   "id": "a126dd50",
   "metadata": {},
   "outputs": [
    {
     "data": {
      "text/plain": [
       "XGBClassifier(base_score=0.5, booster='gbtree', callbacks=None,\n",
       "              colsample_bylevel=1, colsample_bynode=1, colsample_bytree=1,\n",
       "              early_stopping_rounds=None, enable_categorical=False,\n",
       "              eval_metric=None, gamma=0, gpu_id=-1, grow_policy='depthwise',\n",
       "              importance_type=None, interaction_constraints='',\n",
       "              learning_rate=0.300000012, max_bin=256, max_cat_to_onehot=4,\n",
       "              max_delta_step=0, max_depth=6, max_leaves=0, min_child_weight=1,\n",
       "              missing=nan, monotone_constraints='()', n_estimators=100,\n",
       "              n_jobs=0, num_parallel_tree=1, predictor='auto', random_state=0,\n",
       "              reg_alpha=0, reg_lambda=1, ...)"
      ]
     },
     "execution_count": 22,
     "metadata": {},
     "output_type": "execute_result"
    }
   ],
   "source": [
    "import xgboost as xgb\n",
    "\n",
    "\n",
    "xgbmodel = xgb.XGBClassifier()\n",
    "\n",
    "xgbmodel.fit(X,y)\n",
    "\n"
   ]
  },
  {
   "cell_type": "code",
   "execution_count": 23,
   "id": "610f0149",
   "metadata": {},
   "outputs": [],
   "source": [
    "test_pred6 = xgbmodel.predict(test)"
   ]
  },
  {
   "cell_type": "code",
   "execution_count": 24,
   "id": "98ad1e06",
   "metadata": {},
   "outputs": [],
   "source": [
    "sub6 = pd.DataFrame({\"Entry_id\":testset.Entry_id,\"e_signed\":test_pred6})\n",
    "sub6.to_csv(\"Data/sub6.csv\", index=False)"
   ]
  },
  {
   "cell_type": "markdown",
   "id": "b75c93a9",
   "metadata": {},
   "source": [
    "score: 0.633"
   ]
  }
 ],
 "metadata": {
  "kernelspec": {
   "display_name": "Python 3 (ipykernel)",
   "language": "python",
   "name": "python3"
  },
  "language_info": {
   "codemirror_mode": {
    "name": "ipython",
    "version": 3
   },
   "file_extension": ".py",
   "mimetype": "text/x-python",
   "name": "python",
   "nbconvert_exporter": "python",
   "pygments_lexer": "ipython3",
   "version": "3.9.7"
  }
 },
 "nbformat": 4,
 "nbformat_minor": 5
}
