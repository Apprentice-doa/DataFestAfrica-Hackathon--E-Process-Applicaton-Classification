{
 "cells": [
  {
   "cell_type": "code",
   "execution_count": 1,
   "id": "03ece640",
   "metadata": {},
   "outputs": [
    {
     "name": "stdout",
     "output_type": "stream",
     "text": [
      "Sucessful\n"
     ]
    }
   ],
   "source": [
    "import pandas as pd\n",
    "import numpy as np\n",
    "import matplotlib.pyplot as plt\n",
    "import seaborn as sns\n",
    "\n",
    "print(\"Sucessful\")"
   ]
  },
  {
   "cell_type": "code",
   "execution_count": 2,
   "id": "8d631ba6",
   "metadata": {},
   "outputs": [],
   "source": [
    "trainset = pd.read_csv(\"Data/train.csv\")\n",
    "testset = pd.read_csv(\"Data/test.csv\")"
   ]
  },
  {
   "cell_type": "code",
   "execution_count": 3,
   "id": "7e5ba9cb",
   "metadata": {},
   "outputs": [],
   "source": [
    "trainset.pay_schedule = trainset.pay_schedule.apply(lambda x: 4.3333 if x == \"weekly\" else \n",
    "                                         2.166 if x == \"bi-weekly\" else\n",
    "                                         2 if x == \"semi-monthly\" else\n",
    "                                         1 )"
   ]
  },
  {
   "cell_type": "code",
   "execution_count": 4,
   "id": "70bddb85",
   "metadata": {},
   "outputs": [
    {
     "data": {
      "text/plain": [
       "2.1660    7447\n",
       "4.3333    2627\n",
       "2.0000    1388\n",
       "1.0000    1054\n",
       "Name: pay_schedule, dtype: int64"
      ]
     },
     "execution_count": 4,
     "metadata": {},
     "output_type": "execute_result"
    }
   ],
   "source": [
    "trainset.pay_schedule.value_counts()"
   ]
  },
  {
   "cell_type": "code",
   "execution_count": 5,
   "id": "605dd039",
   "metadata": {},
   "outputs": [],
   "source": [
    "trainset.drop(\"Entry_id\", axis = 1, inplace = True)"
   ]
  },
  {
   "cell_type": "code",
   "execution_count": 6,
   "id": "395b1f23",
   "metadata": {},
   "outputs": [],
   "source": [
    "X = trainset.drop(\"e_signed\", axis = 1)\n",
    "y = trainset[\"e_signed\"]"
   ]
  },
  {
   "cell_type": "code",
   "execution_count": 7,
   "id": "a76c2e68",
   "metadata": {},
   "outputs": [],
   "source": [
    "testset.pay_schedule = testset.pay_schedule.apply(lambda x: 4.3333 if x == \"weekly\" else \n",
    "                                         2.166 if x == \"bi-weekly\" else\n",
    "                                         2 if x == \"semi-monthly\" else\n",
    "                                         1 )"
   ]
  },
  {
   "cell_type": "code",
   "execution_count": 8,
   "id": "642b61b2",
   "metadata": {},
   "outputs": [],
   "source": [
    "test = testset.drop(\"Entry_id\", axis = 1)\n",
    "sub = testset[\"Entry_id\"]"
   ]
  },
  {
   "cell_type": "code",
   "execution_count": 9,
   "id": "84052c0e",
   "metadata": {},
   "outputs": [
    {
     "data": {
      "text/plain": [
       "RandomForestClassifier()"
      ]
     },
     "execution_count": 9,
     "metadata": {},
     "output_type": "execute_result"
    }
   ],
   "source": [
    "from sklearn.ensemble import RandomForestClassifier \n",
    "\n",
    "rfmodel = RandomForestClassifier()\n",
    "\n",
    "rfmodel.fit(X,y)\n"
   ]
  },
  {
   "cell_type": "code",
   "execution_count": 11,
   "id": "60e71260",
   "metadata": {},
   "outputs": [],
   "source": [
    "test_pred4 = rfmodel.predict(test)"
   ]
  },
  {
   "cell_type": "code",
   "execution_count": 12,
   "id": "b329beac",
   "metadata": {},
   "outputs": [],
   "source": [
    "sub4 = pd.DataFrame({\"Entry_id\":testset.Entry_id,\"e_signed\":test_pred4})\n",
    "sub4.to_csv(\"Data/sub4.csv\", index=False)\n",
    "\n"
   ]
  },
  {
   "cell_type": "markdown",
   "id": "b65e2ce3",
   "metadata": {},
   "source": [
    "score: 0.630"
   ]
  },
  {
   "cell_type": "code",
   "execution_count": 13,
   "id": "d73ffe5a",
   "metadata": {},
   "outputs": [
    {
     "data": {
      "text/plain": [
       "<catboost.core.CatBoostClassifier at 0x2469eff8760>"
      ]
     },
     "execution_count": 13,
     "metadata": {},
     "output_type": "execute_result"
    }
   ],
   "source": [
    "import catboost as ctb\n",
    "\n",
    "\n",
    "ctbmodel = ctb.CatBoostClassifier()\n",
    "\n",
    "ctbmodel.fit(X,y, silent = True)\n",
    "\n"
   ]
  },
  {
   "cell_type": "code",
   "execution_count": 14,
   "id": "939fb1bb",
   "metadata": {},
   "outputs": [],
   "source": [
    "test_pred3 = ctbmodel.predict(test)"
   ]
  },
  {
   "cell_type": "code",
   "execution_count": 15,
   "id": "6a755c45",
   "metadata": {},
   "outputs": [],
   "source": [
    "sub5 = pd.DataFrame({\"Entry_id\":testset.Entry_id,\"e_signed\":test_pred3})\n",
    "sub5.to_csv(\"Data/sub5.csv\", index=False)"
   ]
  },
  {
   "cell_type": "markdown",
   "id": "f9fde39f",
   "metadata": {},
   "source": [
    "score: 0.6513"
   ]
  },
  {
   "cell_type": "code",
   "execution_count": 18,
   "id": "53adcd03",
   "metadata": {},
   "outputs": [
    {
     "name": "stdout",
     "output_type": "stream",
     "text": [
      "Collecting xgboost\n",
      "  Downloading xgboost-1.6.2-py3-none-win_amd64.whl (125.4 MB)\n",
      "Requirement already satisfied: scipy in c:\\users\\cypher\\anaconda3\\lib\\site-packages (from xgboost) (1.7.1)\n",
      "Requirement already satisfied: numpy in c:\\users\\cypher\\anaconda3\\lib\\site-packages (from xgboost) (1.20.3)\n",
      "Installing collected packages: xgboost\n",
      "Successfully installed xgboost-1.6.2\n"
     ]
    }
   ],
   "source": [
    "!pip install xgboost\n"
   ]
  },
  {
   "cell_type": "code",
   "execution_count": 22,
   "id": "a126dd50",
   "metadata": {},
   "outputs": [
    {
     "data": {
      "text/plain": [
       "XGBClassifier(base_score=0.5, booster='gbtree', callbacks=None,\n",
       "              colsample_bylevel=1, colsample_bynode=1, colsample_bytree=1,\n",
       "              early_stopping_rounds=None, enable_categorical=False,\n",
       "              eval_metric=None, gamma=0, gpu_id=-1, grow_policy='depthwise',\n",
       "              importance_type=None, interaction_constraints='',\n",
       "              learning_rate=0.300000012, max_bin=256, max_cat_to_onehot=4,\n",
       "              max_delta_step=0, max_depth=6, max_leaves=0, min_child_weight=1,\n",
       "              missing=nan, monotone_constraints='()', n_estimators=100,\n",
       "              n_jobs=0, num_parallel_tree=1, predictor='auto', random_state=0,\n",
       "              reg_alpha=0, reg_lambda=1, ...)"
      ]
     },
     "execution_count": 22,
     "metadata": {},
     "output_type": "execute_result"
    }
   ],
   "source": [
    "import xgboost as xgb\n",
    "\n",
    "\n",
    "xgbmodel = xgb.XGBClassifier()\n",
    "\n",
    "xgbmodel.fit(X,y)\n",
    "\n"
   ]
  },
  {
   "cell_type": "code",
   "execution_count": 23,
   "id": "610f0149",
   "metadata": {},
   "outputs": [],
   "source": [
    "test_pred6 = xgbmodel.predict(test)"
   ]
  },
  {
   "cell_type": "code",
   "execution_count": 24,
   "id": "98ad1e06",
   "metadata": {},
   "outputs": [],
   "source": [
    "sub6 = pd.DataFrame({\"Entry_id\":testset.Entry_id,\"e_signed\":test_pred6})\n",
    "sub6.to_csv(\"Data/sub6.csv\", index=False)"
   ]
  },
  {
   "cell_type": "markdown",
   "id": "b75c93a9",
   "metadata": {},
   "source": [
    "score: 0.633"
   ]
  }
 ],
 "metadata": {
  "kernelspec": {
   "display_name": "Python 3 (ipykernel)",
   "language": "python",
   "name": "python3"
  },
  "language_info": {
   "codemirror_mode": {
    "name": "ipython",
    "version": 3
   },
   "file_extension": ".py",
   "mimetype": "text/x-python",
   "name": "python",
   "nbconvert_exporter": "python",
   "pygments_lexer": "ipython3",
   "version": "3.9.7"
  }
 },
 "nbformat": 4,
 "nbformat_minor": 5
}
