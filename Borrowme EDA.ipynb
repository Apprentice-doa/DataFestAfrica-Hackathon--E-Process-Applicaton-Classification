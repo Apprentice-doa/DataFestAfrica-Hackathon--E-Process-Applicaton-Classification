{
 "cells": [
  {
   "cell_type": "markdown",
   "id": "38981179",
   "metadata": {},
   "source": [
    "# DatafestAfrica ML Hackathon | Team Wheelers\n"
   ]
  },
  {
   "cell_type": "markdown",
   "id": "2ed2c691",
   "metadata": {},
   "source": [
    "## Project Description: Help a Financial Industry predict who is likely to complete an E-process application\n",
    "The IT team has provided historical information containing the information of applicants and the status of their loan application process. You are expected to automate the process by building a machine learning model to predict the outcome of the lending process if the credit facility process was completed via e-process, that is E-Signed or not."
   ]
  },
  {
   "cell_type": "markdown",
   "id": "915fde32",
   "metadata": {},
   "source": [
    "### Setup"
   ]
  },
  {
   "cell_type": "code",
   "execution_count": 2,
   "id": "bedd73c3",
   "metadata": {},
   "outputs": [
    {
     "name": "stdout",
     "output_type": "stream",
     "text": [
      "Import Successful; Libraries\n",
      "Import Successful; Data\n"
     ]
    }
   ],
   "source": [
    "#Import Basic libraries\n",
    "\n",
    "import pandas as pd\n",
    "import numpy as np\n",
    "import seaborn as sns\n",
    "import matplotlib.pyplot as plt\n",
    "\n",
    "print(\"Import Successful; Libraries\")\n",
    "\n",
    "#Import Datasets\n",
    "\n",
    "trainset = pd.read_csv(\"Data/train.csv\")\n",
    "testset = pd.read_csv(\"Data/test.csv\")\n",
    "\n",
    "print(\"Import Successful; Data\")"
   ]
  },
  {
   "cell_type": "markdown",
   "id": "c98a4b0d",
   "metadata": {},
   "source": [
    "### Data Overview"
   ]
  },
  {
   "cell_type": "code",
   "execution_count": 3,
   "id": "4443146d",
   "metadata": {},
   "outputs": [
    {
     "data": {
      "text/html": [
       "<div>\n",
       "<style scoped>\n",
       "    .dataframe tbody tr th:only-of-type {\n",
       "        vertical-align: middle;\n",
       "    }\n",
       "\n",
       "    .dataframe tbody tr th {\n",
       "        vertical-align: top;\n",
       "    }\n",
       "\n",
       "    .dataframe thead th {\n",
       "        text-align: right;\n",
       "    }\n",
       "</style>\n",
       "<table border=\"1\" class=\"dataframe\">\n",
       "  <thead>\n",
       "    <tr style=\"text-align: right;\">\n",
       "      <th></th>\n",
       "      <th>Entry_id</th>\n",
       "      <th>age</th>\n",
       "      <th>pay_schedule</th>\n",
       "      <th>home_owner</th>\n",
       "      <th>income</th>\n",
       "      <th>months_employed</th>\n",
       "      <th>years_employed</th>\n",
       "      <th>current_address_year</th>\n",
       "      <th>personal_account_m</th>\n",
       "      <th>personal_account_y</th>\n",
       "      <th>...</th>\n",
       "      <th>amount_requested</th>\n",
       "      <th>risk_score</th>\n",
       "      <th>risk_score_2</th>\n",
       "      <th>risk_score_3</th>\n",
       "      <th>risk_score_4</th>\n",
       "      <th>risk_score_5</th>\n",
       "      <th>ext_quality_score</th>\n",
       "      <th>ext_quality_score_2</th>\n",
       "      <th>inquiries_last_month</th>\n",
       "      <th>e_signed</th>\n",
       "    </tr>\n",
       "  </thead>\n",
       "  <tbody>\n",
       "    <tr>\n",
       "      <th>0</th>\n",
       "      <td>7629673</td>\n",
       "      <td>40</td>\n",
       "      <td>bi-weekly</td>\n",
       "      <td>1</td>\n",
       "      <td>3135</td>\n",
       "      <td>0</td>\n",
       "      <td>3</td>\n",
       "      <td>3</td>\n",
       "      <td>6</td>\n",
       "      <td>2</td>\n",
       "      <td>...</td>\n",
       "      <td>550</td>\n",
       "      <td>36200</td>\n",
       "      <td>0.737398</td>\n",
       "      <td>0.903517</td>\n",
       "      <td>0.487712</td>\n",
       "      <td>0.515977</td>\n",
       "      <td>0.580918</td>\n",
       "      <td>0.380918</td>\n",
       "      <td>10</td>\n",
       "      <td>1</td>\n",
       "    </tr>\n",
       "    <tr>\n",
       "      <th>1</th>\n",
       "      <td>5335819</td>\n",
       "      <td>33</td>\n",
       "      <td>semi-monthly</td>\n",
       "      <td>0</td>\n",
       "      <td>3590</td>\n",
       "      <td>0</td>\n",
       "      <td>5</td>\n",
       "      <td>2</td>\n",
       "      <td>2</td>\n",
       "      <td>8</td>\n",
       "      <td>...</td>\n",
       "      <td>1100</td>\n",
       "      <td>53850</td>\n",
       "      <td>0.617361</td>\n",
       "      <td>0.857560</td>\n",
       "      <td>0.613487</td>\n",
       "      <td>0.665523</td>\n",
       "      <td>0.744634</td>\n",
       "      <td>0.744634</td>\n",
       "      <td>12</td>\n",
       "      <td>0</td>\n",
       "    </tr>\n",
       "    <tr>\n",
       "      <th>2</th>\n",
       "      <td>8492423</td>\n",
       "      <td>21</td>\n",
       "      <td>weekly</td>\n",
       "      <td>0</td>\n",
       "      <td>2303</td>\n",
       "      <td>0</td>\n",
       "      <td>5</td>\n",
       "      <td>8</td>\n",
       "      <td>2</td>\n",
       "      <td>7</td>\n",
       "      <td>...</td>\n",
       "      <td>600</td>\n",
       "      <td>74850</td>\n",
       "      <td>0.677109</td>\n",
       "      <td>0.758765</td>\n",
       "      <td>0.495609</td>\n",
       "      <td>0.664762</td>\n",
       "      <td>0.592556</td>\n",
       "      <td>0.492556</td>\n",
       "      <td>6</td>\n",
       "      <td>1</td>\n",
       "    </tr>\n",
       "    <tr>\n",
       "      <th>3</th>\n",
       "      <td>7948313</td>\n",
       "      <td>26</td>\n",
       "      <td>bi-weekly</td>\n",
       "      <td>0</td>\n",
       "      <td>2795</td>\n",
       "      <td>0</td>\n",
       "      <td>4</td>\n",
       "      <td>4</td>\n",
       "      <td>1</td>\n",
       "      <td>6</td>\n",
       "      <td>...</td>\n",
       "      <td>800</td>\n",
       "      <td>50800</td>\n",
       "      <td>0.738055</td>\n",
       "      <td>0.873204</td>\n",
       "      <td>0.666437</td>\n",
       "      <td>0.700392</td>\n",
       "      <td>0.584130</td>\n",
       "      <td>0.684130</td>\n",
       "      <td>14</td>\n",
       "      <td>1</td>\n",
       "    </tr>\n",
       "    <tr>\n",
       "      <th>4</th>\n",
       "      <td>4297036</td>\n",
       "      <td>43</td>\n",
       "      <td>bi-weekly</td>\n",
       "      <td>0</td>\n",
       "      <td>5000</td>\n",
       "      <td>0</td>\n",
       "      <td>2</td>\n",
       "      <td>1</td>\n",
       "      <td>1</td>\n",
       "      <td>2</td>\n",
       "      <td>...</td>\n",
       "      <td>1100</td>\n",
       "      <td>69100</td>\n",
       "      <td>0.798303</td>\n",
       "      <td>0.841747</td>\n",
       "      <td>0.401971</td>\n",
       "      <td>0.568787</td>\n",
       "      <td>0.525905</td>\n",
       "      <td>0.725905</td>\n",
       "      <td>5</td>\n",
       "      <td>1</td>\n",
       "    </tr>\n",
       "  </tbody>\n",
       "</table>\n",
       "<p>5 rows × 21 columns</p>\n",
       "</div>"
      ],
      "text/plain": [
       "   Entry_id  age  pay_schedule  home_owner  income  months_employed  \\\n",
       "0   7629673   40     bi-weekly           1    3135                0   \n",
       "1   5335819   33  semi-monthly           0    3590                0   \n",
       "2   8492423   21        weekly           0    2303                0   \n",
       "3   7948313   26     bi-weekly           0    2795                0   \n",
       "4   4297036   43     bi-weekly           0    5000                0   \n",
       "\n",
       "   years_employed  current_address_year  personal_account_m  \\\n",
       "0               3                     3                   6   \n",
       "1               5                     2                   2   \n",
       "2               5                     8                   2   \n",
       "3               4                     4                   1   \n",
       "4               2                     1                   1   \n",
       "\n",
       "   personal_account_y  ...  amount_requested  risk_score  risk_score_2  \\\n",
       "0                   2  ...               550       36200      0.737398   \n",
       "1                   8  ...              1100       53850      0.617361   \n",
       "2                   7  ...               600       74850      0.677109   \n",
       "3                   6  ...               800       50800      0.738055   \n",
       "4                   2  ...              1100       69100      0.798303   \n",
       "\n",
       "   risk_score_3  risk_score_4  risk_score_5  ext_quality_score  \\\n",
       "0      0.903517      0.487712      0.515977           0.580918   \n",
       "1      0.857560      0.613487      0.665523           0.744634   \n",
       "2      0.758765      0.495609      0.664762           0.592556   \n",
       "3      0.873204      0.666437      0.700392           0.584130   \n",
       "4      0.841747      0.401971      0.568787           0.525905   \n",
       "\n",
       "   ext_quality_score_2  inquiries_last_month  e_signed  \n",
       "0             0.380918                    10         1  \n",
       "1             0.744634                    12         0  \n",
       "2             0.492556                     6         1  \n",
       "3             0.684130                    14         1  \n",
       "4             0.725905                     5         1  \n",
       "\n",
       "[5 rows x 21 columns]"
      ]
     },
     "execution_count": 3,
     "metadata": {},
     "output_type": "execute_result"
    }
   ],
   "source": [
    "trainset.head()"
   ]
  },
  {
   "cell_type": "code",
   "execution_count": 4,
   "id": "78cfcd3d",
   "metadata": {},
   "outputs": [
    {
     "name": "stdout",
     "output_type": "stream",
     "text": [
      "<class 'pandas.core.frame.DataFrame'>\n",
      "RangeIndex: 12516 entries, 0 to 12515\n",
      "Data columns (total 21 columns):\n",
      " #   Column                Non-Null Count  Dtype  \n",
      "---  ------                --------------  -----  \n",
      " 0   Entry_id              12516 non-null  int64  \n",
      " 1   age                   12516 non-null  int64  \n",
      " 2   pay_schedule          12516 non-null  object \n",
      " 3   home_owner            12516 non-null  int64  \n",
      " 4   income                12516 non-null  int64  \n",
      " 5   months_employed       12516 non-null  int64  \n",
      " 6   years_employed        12516 non-null  int64  \n",
      " 7   current_address_year  12516 non-null  int64  \n",
      " 8   personal_account_m    12516 non-null  int64  \n",
      " 9   personal_account_y    12516 non-null  int64  \n",
      " 10  has_debt              12516 non-null  int64  \n",
      " 11  amount_requested      12516 non-null  int64  \n",
      " 12  risk_score            12516 non-null  int64  \n",
      " 13  risk_score_2          12516 non-null  float64\n",
      " 14  risk_score_3          12516 non-null  float64\n",
      " 15  risk_score_4          12516 non-null  float64\n",
      " 16  risk_score_5          12516 non-null  float64\n",
      " 17  ext_quality_score     12516 non-null  float64\n",
      " 18  ext_quality_score_2   12516 non-null  float64\n",
      " 19  inquiries_last_month  12516 non-null  int64  \n",
      " 20  e_signed              12516 non-null  int64  \n",
      "dtypes: float64(6), int64(14), object(1)\n",
      "memory usage: 2.0+ MB\n"
     ]
    }
   ],
   "source": [
    "trainset.info()"
   ]
  },
  {
   "cell_type": "code",
   "execution_count": 5,
   "id": "1a8134ae",
   "metadata": {},
   "outputs": [
    {
     "data": {
      "text/plain": [
       "Entry_id                0\n",
       "age                     0\n",
       "pay_schedule            0\n",
       "home_owner              0\n",
       "income                  0\n",
       "months_employed         0\n",
       "years_employed          0\n",
       "current_address_year    0\n",
       "personal_account_m      0\n",
       "personal_account_y      0\n",
       "has_debt                0\n",
       "amount_requested        0\n",
       "risk_score              0\n",
       "risk_score_2            0\n",
       "risk_score_3            0\n",
       "risk_score_4            0\n",
       "risk_score_5            0\n",
       "ext_quality_score       0\n",
       "ext_quality_score_2     0\n",
       "inquiries_last_month    0\n",
       "e_signed                0\n",
       "dtype: int64"
      ]
     },
     "execution_count": 5,
     "metadata": {},
     "output_type": "execute_result"
    }
   ],
   "source": [
    "trainset.isnull().sum()"
   ]
  },
  {
   "cell_type": "code",
   "execution_count": 6,
   "id": "ef93b04c",
   "metadata": {},
   "outputs": [
    {
     "data": {
      "text/html": [
       "<div>\n",
       "<style scoped>\n",
       "    .dataframe tbody tr th:only-of-type {\n",
       "        vertical-align: middle;\n",
       "    }\n",
       "\n",
       "    .dataframe tbody tr th {\n",
       "        vertical-align: top;\n",
       "    }\n",
       "\n",
       "    .dataframe thead th {\n",
       "        text-align: right;\n",
       "    }\n",
       "</style>\n",
       "<table border=\"1\" class=\"dataframe\">\n",
       "  <thead>\n",
       "    <tr style=\"text-align: right;\">\n",
       "      <th></th>\n",
       "      <th>Entry_id</th>\n",
       "      <th>age</th>\n",
       "      <th>home_owner</th>\n",
       "      <th>income</th>\n",
       "      <th>months_employed</th>\n",
       "      <th>years_employed</th>\n",
       "      <th>current_address_year</th>\n",
       "      <th>personal_account_m</th>\n",
       "      <th>personal_account_y</th>\n",
       "      <th>has_debt</th>\n",
       "      <th>amount_requested</th>\n",
       "      <th>risk_score</th>\n",
       "      <th>risk_score_2</th>\n",
       "      <th>risk_score_3</th>\n",
       "      <th>risk_score_4</th>\n",
       "      <th>risk_score_5</th>\n",
       "      <th>ext_quality_score</th>\n",
       "      <th>ext_quality_score_2</th>\n",
       "      <th>inquiries_last_month</th>\n",
       "      <th>e_signed</th>\n",
       "    </tr>\n",
       "  </thead>\n",
       "  <tbody>\n",
       "    <tr>\n",
       "      <th>count</th>\n",
       "      <td>1.251600e+04</td>\n",
       "      <td>12516.000000</td>\n",
       "      <td>12516.000000</td>\n",
       "      <td>12516.000000</td>\n",
       "      <td>12516.000000</td>\n",
       "      <td>12516.000000</td>\n",
       "      <td>12516.000000</td>\n",
       "      <td>12516.000000</td>\n",
       "      <td>12516.000000</td>\n",
       "      <td>12516.000000</td>\n",
       "      <td>12516.000000</td>\n",
       "      <td>12516.000000</td>\n",
       "      <td>12516.000000</td>\n",
       "      <td>12516.000000</td>\n",
       "      <td>12516.000000</td>\n",
       "      <td>12516.000000</td>\n",
       "      <td>12516.000000</td>\n",
       "      <td>12516.000000</td>\n",
       "      <td>12516.000000</td>\n",
       "      <td>12516.000000</td>\n",
       "    </tr>\n",
       "    <tr>\n",
       "      <th>mean</th>\n",
       "      <td>5.599485e+06</td>\n",
       "      <td>43.026766</td>\n",
       "      <td>0.425056</td>\n",
       "      <td>3654.110658</td>\n",
       "      <td>1.191355</td>\n",
       "      <td>3.532998</td>\n",
       "      <td>3.593161</td>\n",
       "      <td>3.402205</td>\n",
       "      <td>3.508469</td>\n",
       "      <td>0.795462</td>\n",
       "      <td>950.251518</td>\n",
       "      <td>61133.401246</td>\n",
       "      <td>0.690665</td>\n",
       "      <td>0.877954</td>\n",
       "      <td>0.582848</td>\n",
       "      <td>0.718456</td>\n",
       "      <td>0.621944</td>\n",
       "      <td>0.621912</td>\n",
       "      <td>6.494088</td>\n",
       "      <td>0.540588</td>\n",
       "    </tr>\n",
       "    <tr>\n",
       "      <th>std</th>\n",
       "      <td>2.563354e+06</td>\n",
       "      <td>11.865891</td>\n",
       "      <td>0.494371</td>\n",
       "      <td>1508.072163</td>\n",
       "      <td>2.404529</td>\n",
       "      <td>2.265293</td>\n",
       "      <td>2.749211</td>\n",
       "      <td>2.206649</td>\n",
       "      <td>1.959969</td>\n",
       "      <td>0.403380</td>\n",
       "      <td>706.915146</td>\n",
       "      <td>15396.809340</td>\n",
       "      <td>0.090294</td>\n",
       "      <td>0.054197</td>\n",
       "      <td>0.125260</td>\n",
       "      <td>0.121103</td>\n",
       "      <td>0.139876</td>\n",
       "      <td>0.139623</td>\n",
       "      <td>3.731870</td>\n",
       "      <td>0.498370</td>\n",
       "    </tr>\n",
       "    <tr>\n",
       "      <th>min</th>\n",
       "      <td>1.111398e+06</td>\n",
       "      <td>18.000000</td>\n",
       "      <td>0.000000</td>\n",
       "      <td>905.000000</td>\n",
       "      <td>0.000000</td>\n",
       "      <td>0.000000</td>\n",
       "      <td>0.000000</td>\n",
       "      <td>0.000000</td>\n",
       "      <td>0.000000</td>\n",
       "      <td>0.000000</td>\n",
       "      <td>350.000000</td>\n",
       "      <td>2100.000000</td>\n",
       "      <td>0.023258</td>\n",
       "      <td>0.451371</td>\n",
       "      <td>0.016724</td>\n",
       "      <td>0.153367</td>\n",
       "      <td>0.010184</td>\n",
       "      <td>0.006622</td>\n",
       "      <td>1.000000</td>\n",
       "      <td>0.000000</td>\n",
       "    </tr>\n",
       "    <tr>\n",
       "      <th>25%</th>\n",
       "      <td>3.376885e+06</td>\n",
       "      <td>34.000000</td>\n",
       "      <td>0.000000</td>\n",
       "      <td>2575.000000</td>\n",
       "      <td>0.000000</td>\n",
       "      <td>2.000000</td>\n",
       "      <td>2.000000</td>\n",
       "      <td>2.000000</td>\n",
       "      <td>2.000000</td>\n",
       "      <td>1.000000</td>\n",
       "      <td>600.000000</td>\n",
       "      <td>49450.000000</td>\n",
       "      <td>0.641221</td>\n",
       "      <td>0.850893</td>\n",
       "      <td>0.499887</td>\n",
       "      <td>0.635005</td>\n",
       "      <td>0.519794</td>\n",
       "      <td>0.519662</td>\n",
       "      <td>4.000000</td>\n",
       "      <td>0.000000</td>\n",
       "    </tr>\n",
       "    <tr>\n",
       "      <th>50%</th>\n",
       "      <td>5.608376e+06</td>\n",
       "      <td>42.000000</td>\n",
       "      <td>0.000000</td>\n",
       "      <td>3255.000000</td>\n",
       "      <td>0.000000</td>\n",
       "      <td>3.000000</td>\n",
       "      <td>3.000000</td>\n",
       "      <td>2.000000</td>\n",
       "      <td>3.000000</td>\n",
       "      <td>1.000000</td>\n",
       "      <td>700.000000</td>\n",
       "      <td>61200.000000</td>\n",
       "      <td>0.699621</td>\n",
       "      <td>0.880993</td>\n",
       "      <td>0.588202</td>\n",
       "      <td>0.725717</td>\n",
       "      <td>0.624081</td>\n",
       "      <td>0.623781</td>\n",
       "      <td>6.000000</td>\n",
       "      <td>1.000000</td>\n",
       "    </tr>\n",
       "    <tr>\n",
       "      <th>75%</th>\n",
       "      <td>7.803325e+06</td>\n",
       "      <td>51.000000</td>\n",
       "      <td>1.000000</td>\n",
       "      <td>4661.250000</td>\n",
       "      <td>1.000000</td>\n",
       "      <td>5.000000</td>\n",
       "      <td>5.000000</td>\n",
       "      <td>5.000000</td>\n",
       "      <td>4.000000</td>\n",
       "      <td>1.000000</td>\n",
       "      <td>1100.000000</td>\n",
       "      <td>72750.000000</td>\n",
       "      <td>0.752053</td>\n",
       "      <td>0.911485</td>\n",
       "      <td>0.672431</td>\n",
       "      <td>0.806576</td>\n",
       "      <td>0.729609</td>\n",
       "      <td>0.728389</td>\n",
       "      <td>8.000000</td>\n",
       "      <td>1.000000</td>\n",
       "    </tr>\n",
       "    <tr>\n",
       "      <th>max</th>\n",
       "      <td>9.999874e+06</td>\n",
       "      <td>96.000000</td>\n",
       "      <td>1.000000</td>\n",
       "      <td>9985.000000</td>\n",
       "      <td>11.000000</td>\n",
       "      <td>16.000000</td>\n",
       "      <td>12.000000</td>\n",
       "      <td>11.000000</td>\n",
       "      <td>14.000000</td>\n",
       "      <td>1.000000</td>\n",
       "      <td>10200.000000</td>\n",
       "      <td>99750.000000</td>\n",
       "      <td>0.999997</td>\n",
       "      <td>0.999012</td>\n",
       "      <td>0.978932</td>\n",
       "      <td>0.993363</td>\n",
       "      <td>0.970249</td>\n",
       "      <td>0.966953</td>\n",
       "      <td>30.000000</td>\n",
       "      <td>1.000000</td>\n",
       "    </tr>\n",
       "  </tbody>\n",
       "</table>\n",
       "</div>"
      ],
      "text/plain": [
       "           Entry_id           age    home_owner        income  \\\n",
       "count  1.251600e+04  12516.000000  12516.000000  12516.000000   \n",
       "mean   5.599485e+06     43.026766      0.425056   3654.110658   \n",
       "std    2.563354e+06     11.865891      0.494371   1508.072163   \n",
       "min    1.111398e+06     18.000000      0.000000    905.000000   \n",
       "25%    3.376885e+06     34.000000      0.000000   2575.000000   \n",
       "50%    5.608376e+06     42.000000      0.000000   3255.000000   \n",
       "75%    7.803325e+06     51.000000      1.000000   4661.250000   \n",
       "max    9.999874e+06     96.000000      1.000000   9985.000000   \n",
       "\n",
       "       months_employed  years_employed  current_address_year  \\\n",
       "count     12516.000000    12516.000000          12516.000000   \n",
       "mean          1.191355        3.532998              3.593161   \n",
       "std           2.404529        2.265293              2.749211   \n",
       "min           0.000000        0.000000              0.000000   \n",
       "25%           0.000000        2.000000              2.000000   \n",
       "50%           0.000000        3.000000              3.000000   \n",
       "75%           1.000000        5.000000              5.000000   \n",
       "max          11.000000       16.000000             12.000000   \n",
       "\n",
       "       personal_account_m  personal_account_y      has_debt  amount_requested  \\\n",
       "count        12516.000000        12516.000000  12516.000000      12516.000000   \n",
       "mean             3.402205            3.508469      0.795462        950.251518   \n",
       "std              2.206649            1.959969      0.403380        706.915146   \n",
       "min              0.000000            0.000000      0.000000        350.000000   \n",
       "25%              2.000000            2.000000      1.000000        600.000000   \n",
       "50%              2.000000            3.000000      1.000000        700.000000   \n",
       "75%              5.000000            4.000000      1.000000       1100.000000   \n",
       "max             11.000000           14.000000      1.000000      10200.000000   \n",
       "\n",
       "         risk_score  risk_score_2  risk_score_3  risk_score_4  risk_score_5  \\\n",
       "count  12516.000000  12516.000000  12516.000000  12516.000000  12516.000000   \n",
       "mean   61133.401246      0.690665      0.877954      0.582848      0.718456   \n",
       "std    15396.809340      0.090294      0.054197      0.125260      0.121103   \n",
       "min     2100.000000      0.023258      0.451371      0.016724      0.153367   \n",
       "25%    49450.000000      0.641221      0.850893      0.499887      0.635005   \n",
       "50%    61200.000000      0.699621      0.880993      0.588202      0.725717   \n",
       "75%    72750.000000      0.752053      0.911485      0.672431      0.806576   \n",
       "max    99750.000000      0.999997      0.999012      0.978932      0.993363   \n",
       "\n",
       "       ext_quality_score  ext_quality_score_2  inquiries_last_month  \\\n",
       "count       12516.000000         12516.000000          12516.000000   \n",
       "mean            0.621944             0.621912              6.494088   \n",
       "std             0.139876             0.139623              3.731870   \n",
       "min             0.010184             0.006622              1.000000   \n",
       "25%             0.519794             0.519662              4.000000   \n",
       "50%             0.624081             0.623781              6.000000   \n",
       "75%             0.729609             0.728389              8.000000   \n",
       "max             0.970249             0.966953             30.000000   \n",
       "\n",
       "           e_signed  \n",
       "count  12516.000000  \n",
       "mean       0.540588  \n",
       "std        0.498370  \n",
       "min        0.000000  \n",
       "25%        0.000000  \n",
       "50%        1.000000  \n",
       "75%        1.000000  \n",
       "max        1.000000  "
      ]
     },
     "execution_count": 6,
     "metadata": {},
     "output_type": "execute_result"
    }
   ],
   "source": [
    "trainset.describe()"
   ]
  },
  {
   "cell_type": "markdown",
   "id": "ff2b7502",
   "metadata": {},
   "source": [
    "### Data Overiew Report\n",
    "##### From the data overiew we can conclude that:\n",
    "* The data has 20 features along side the target column, 3 catergorical features and 17 continouns features.\n",
    "* The data has no missing values.\n",
    "* Most features seems balanced for the stats description.\n",
    "* The **amount_requested,inquieries_last_month features** are showing evidence of likely high outliers from stat description (High max values with balanced std and mean)."
   ]
  },
  {
   "cell_type": "markdown",
   "id": "ed954a17",
   "metadata": {},
   "source": [
    "###  Data Exploration and Visualization"
   ]
  },
  {
   "cell_type": "markdown",
   "id": "5dfb4161",
   "metadata": {},
   "source": [
    "#### Exploration of Categorical Features\n",
    "The categorical variables are **pay_schedule**,**home_owner**,**has_debt**\n",
    "\n",
    "Let's check the distribution of the features, the Distribution of the features will tell us how balanced the dataset is"
   ]
  },
  {
   "cell_type": "code",
   "execution_count": 76,
   "id": "6b3b8a85",
   "metadata": {},
   "outputs": [
    {
     "data": {
      "image/png": "[encoded data removed]",
      "text/plain": [
       "<Figure size 504x504 with 1 Axes>"
      ]
     },
     "metadata": {},
     "output_type": "display_data"
    }
   ],
   "source": [
    "#Distribution of pay_schedule\n",
    "\n",
    "fig = plt.figure(figsize = (7,7))\n",
    "colors = ('lightgreen', 'gold', 'darkgreen', 'lightblue')\n",
    "labels = ('Positive', 'Neutral', 'Negative')\n",
    "wp = {'linewidth':2, 'edgecolor':'black'}\n",
    "tags = trainset['pay_schedule'].value_counts()\n",
    "explode = (0.1, 0.1, 0.1, 0.1)\n",
    "tags.plot(kind = 'pie', autopct = '%1.1f%%', shadow = True, colors = colors,\n",
    "         startangle = 90, wedgeprops = wp, explode = explode, label = '', labels = None, legend = True)\n",
    "plt.title('Distribution of pay schedules')\n",
    "plt.show()"
   ]
  },
  {
   "cell_type": "markdown",
   "id": "f0abdd43",
   "metadata": {},
   "source": [
    "From the distribution of customers payment schedules, 59% of customers opted for bi-weekly mode of payment which happens to be the highest percentage amongst the available payment schedules, With monthly payment schedules being the lowest with 8.4%.\n",
    "\n",
    "The Semi-monthly payment schedule option is a close alternative to the bi-weekly system but is not as profitable and the earner's side.\n",
    "The biweekly system get 26 paychecks in a year **(2.166 times approx a month)** while the semiweekly system pays 24 times in year **(2 times a month)**. Hence is might explain why there are more biweekly employee tham their semiweekly conterparts"
   ]
  },
  {
   "cell_type": "code",
   "execution_count": 8,
   "id": "0d54c3f8",
   "metadata": {},
   "outputs": [
    {
     "data": {
      "image/png": "[encoded data removed]",
      "text/plain": [
       "<Figure size 504x504 with 1 Axes>"
      ]
     },
     "metadata": {},
     "output_type": "display_data"
    }
   ],
   "source": [
    "#Distribution of home owner\n",
    "\n",
    "fig = plt.figure(figsize = (7,7))\n",
    "colors = ('lightgreen', 'gold')\n",
    "labels = ('Positive', 'Neutral', 'Negative')\n",
    "wp = {'linewidth':2, 'edgecolor':'black'}\n",
    "tags = trainset['home_owner'].value_counts()\n",
    "explode = (0.1,0.1)\n",
    "tags.plot(kind = 'pie', autopct = '%1.1f%%', shadow = True, colors = colors,\n",
    "         startangle = 90, wedgeprops = wp, explode = explode, label = '', labels = None, legend = True)\n",
    "plt.title('Distribution of home owned')\n",
    "plt.show()"
   ]
  },
  {
   "cell_type": "markdown",
   "id": "35439b6f",
   "metadata": {},
   "source": [
    "**(Key | 0 : no home, 1 : own home)**\n",
    "\n",
    "From the distribution, The ratio of the home owners of the customers are not far off although customers with homes are more."
   ]
  },
  {
   "cell_type": "code",
   "execution_count": 9,
   "id": "d38361ce",
   "metadata": {},
   "outputs": [
    {
     "data": {
      "image/png": "[encoded data removed]",
      "text/plain": [
       "<Figure size 504x504 with 1 Axes>"
      ]
     },
     "metadata": {},
     "output_type": "display_data"
    }
   ],
   "source": [
    "#Distribution of has_debt\n",
    "\n",
    "fig = plt.figure(figsize = (7,7))\n",
    "colors = ('lightgreen', 'gold')\n",
    "labels = ('Positive', 'Neutral', 'Negative')\n",
    "wp = {'linewidth':2, 'edgecolor':'black'}\n",
    "tags = trainset['has_debt'].value_counts()\n",
    "explode = (0.1,0.1)\n",
    "tags.plot(kind = 'pie', autopct = '%1.1f%%', shadow = True, colors = colors,\n",
    "         startangle = 90, wedgeprops = wp, explode = explode, label = '', labels = None, legend = True)\n",
    "plt.title('Distribution of has_debt')\n",
    "plt.show()"
   ]
  },
  {
   "cell_type": "markdown",
   "id": "2fcefe45",
   "metadata": {},
   "source": [
    "(Key | 0 : no debt, 1 : has debt)\n",
    "\n",
    "From the distribution, A lot of Borrowme's customers are in debted."
   ]
  },
  {
   "cell_type": "markdown",
   "id": "e035c2ff",
   "metadata": {},
   "source": [
    "## Exploration of Continous Features"
   ]
  },
  {
   "cell_type": "code",
   "execution_count": 11,
   "id": "d78c9564",
   "metadata": {},
   "outputs": [
    {
     "data": {
      "image/png": "[encoded data removed]",
      "text/plain": [
       "<Figure size 864x288 with 1 Axes>"
      ]
     },
     "metadata": {
      "needs_background": "light"
     },
     "output_type": "display_data"
    }
   ],
   "source": [
    "plt.figure(figsize = (12,4))\n",
    "ax = sns.histplot(trainset['age'], bins = 15, color = 'lightgreen')\n",
    "plt.title(\"Age Distribution\")\n",
    "plt.show()"
   ]
  },
  {
   "cell_type": "markdown",
   "id": "069830a6",
   "metadata": {},
   "source": [
    "It can be denoted from the histogram chart above that Borrowme's customers are majorly between the age of **30 and 55**. With fewer old aged customers. The age column is skewed to the left"
   ]
  },
  {
   "cell_type": "markdown",
   "id": "5a3432bf",
   "metadata": {},
   "source": [
    "### Data Transformation\n",
    "From description, some of the features need a little bit of Engineering to get the best insights.\n",
    "* Collaspe *month_employed and year_employed to *time_employed**\n",
    "* Collaspe *personal_m and personal_y to *acct_time**\n",
    "* Normalize *risk_score*"
   ]
  },
  {
   "cell_type": "code",
   "execution_count": 12,
   "id": "5a572d6d",
   "metadata": {},
   "outputs": [],
   "source": [
    "#convert month_employed to year and add to year_employed\n",
    "trainset[\"time_employed\"] = trainset.years_employed +(trainset.months_employed/12)\n",
    "trainset.drop([\"years_employed\",\"months_employed\"],axis = 1, inplace=True)\n",
    "\n",
    "#convert personal_account_m to year and add to personal_account_y\n",
    "trainset[\"acct_time\"] = trainset.personal_account_y +(trainset.personal_account_m/12)\n",
    "trainset.drop([\"personal_account_y\",\"personal_account_m\"],axis = 1, inplace=True)\n",
    "\n",
    "#Normalize risk_score\n",
    "trainset[\"risk_score\"] = (trainset.risk_score/100000)"
   ]
  },
  {
   "cell_type": "markdown",
   "id": "369645bc",
   "metadata": {
    "scrolled": true
   },
   "source": [
    "**Let's make plots to show the relatonships of certian features**"
   ]
  },
  {
   "cell_type": "code",
   "execution_count": 13,
   "id": "6a96cddc",
   "metadata": {},
   "outputs": [
    {
     "data": {
      "text/html": [
       "<div>\n",
       "<style scoped>\n",
       "    .dataframe tbody tr th:only-of-type {\n",
       "        vertical-align: middle;\n",
       "    }\n",
       "\n",
       "    .dataframe tbody tr th {\n",
       "        vertical-align: top;\n",
       "    }\n",
       "\n",
       "    .dataframe thead th {\n",
       "        text-align: right;\n",
       "    }\n",
       "</style>\n",
       "<table border=\"1\" class=\"dataframe\">\n",
       "  <thead>\n",
       "    <tr style=\"text-align: right;\">\n",
       "      <th></th>\n",
       "      <th>Entry_id</th>\n",
       "      <th>age</th>\n",
       "      <th>pay_schedule</th>\n",
       "      <th>home_owner</th>\n",
       "      <th>income</th>\n",
       "      <th>current_address_year</th>\n",
       "      <th>has_debt</th>\n",
       "      <th>amount_requested</th>\n",
       "      <th>risk_score</th>\n",
       "      <th>risk_score_2</th>\n",
       "      <th>risk_score_3</th>\n",
       "      <th>risk_score_4</th>\n",
       "      <th>risk_score_5</th>\n",
       "      <th>ext_quality_score</th>\n",
       "      <th>ext_quality_score_2</th>\n",
       "      <th>inquiries_last_month</th>\n",
       "      <th>e_signed</th>\n",
       "      <th>time_employed</th>\n",
       "      <th>acct_time</th>\n",
       "    </tr>\n",
       "  </thead>\n",
       "  <tbody>\n",
       "    <tr>\n",
       "      <th>0</th>\n",
       "      <td>7629673</td>\n",
       "      <td>40</td>\n",
       "      <td>bi-weekly</td>\n",
       "      <td>1</td>\n",
       "      <td>3135</td>\n",
       "      <td>3</td>\n",
       "      <td>1</td>\n",
       "      <td>550</td>\n",
       "      <td>0.3620</td>\n",
       "      <td>0.737398</td>\n",
       "      <td>0.903517</td>\n",
       "      <td>0.487712</td>\n",
       "      <td>0.515977</td>\n",
       "      <td>0.580918</td>\n",
       "      <td>0.380918</td>\n",
       "      <td>10</td>\n",
       "      <td>1</td>\n",
       "      <td>3.0</td>\n",
       "      <td>2.500000</td>\n",
       "    </tr>\n",
       "    <tr>\n",
       "      <th>1</th>\n",
       "      <td>5335819</td>\n",
       "      <td>33</td>\n",
       "      <td>semi-monthly</td>\n",
       "      <td>0</td>\n",
       "      <td>3590</td>\n",
       "      <td>2</td>\n",
       "      <td>1</td>\n",
       "      <td>1100</td>\n",
       "      <td>0.5385</td>\n",
       "      <td>0.617361</td>\n",
       "      <td>0.857560</td>\n",
       "      <td>0.613487</td>\n",
       "      <td>0.665523</td>\n",
       "      <td>0.744634</td>\n",
       "      <td>0.744634</td>\n",
       "      <td>12</td>\n",
       "      <td>0</td>\n",
       "      <td>5.0</td>\n",
       "      <td>8.166667</td>\n",
       "    </tr>\n",
       "    <tr>\n",
       "      <th>2</th>\n",
       "      <td>8492423</td>\n",
       "      <td>21</td>\n",
       "      <td>weekly</td>\n",
       "      <td>0</td>\n",
       "      <td>2303</td>\n",
       "      <td>8</td>\n",
       "      <td>1</td>\n",
       "      <td>600</td>\n",
       "      <td>0.7485</td>\n",
       "      <td>0.677109</td>\n",
       "      <td>0.758765</td>\n",
       "      <td>0.495609</td>\n",
       "      <td>0.664762</td>\n",
       "      <td>0.592556</td>\n",
       "      <td>0.492556</td>\n",
       "      <td>6</td>\n",
       "      <td>1</td>\n",
       "      <td>5.0</td>\n",
       "      <td>7.166667</td>\n",
       "    </tr>\n",
       "    <tr>\n",
       "      <th>3</th>\n",
       "      <td>7948313</td>\n",
       "      <td>26</td>\n",
       "      <td>bi-weekly</td>\n",
       "      <td>0</td>\n",
       "      <td>2795</td>\n",
       "      <td>4</td>\n",
       "      <td>1</td>\n",
       "      <td>800</td>\n",
       "      <td>0.5080</td>\n",
       "      <td>0.738055</td>\n",
       "      <td>0.873204</td>\n",
       "      <td>0.666437</td>\n",
       "      <td>0.700392</td>\n",
       "      <td>0.584130</td>\n",
       "      <td>0.684130</td>\n",
       "      <td>14</td>\n",
       "      <td>1</td>\n",
       "      <td>4.0</td>\n",
       "      <td>6.083333</td>\n",
       "    </tr>\n",
       "    <tr>\n",
       "      <th>4</th>\n",
       "      <td>4297036</td>\n",
       "      <td>43</td>\n",
       "      <td>bi-weekly</td>\n",
       "      <td>0</td>\n",
       "      <td>5000</td>\n",
       "      <td>1</td>\n",
       "      <td>1</td>\n",
       "      <td>1100</td>\n",
       "      <td>0.6910</td>\n",
       "      <td>0.798303</td>\n",
       "      <td>0.841747</td>\n",
       "      <td>0.401971</td>\n",
       "      <td>0.568787</td>\n",
       "      <td>0.525905</td>\n",
       "      <td>0.725905</td>\n",
       "      <td>5</td>\n",
       "      <td>1</td>\n",
       "      <td>2.0</td>\n",
       "      <td>2.083333</td>\n",
       "    </tr>\n",
       "  </tbody>\n",
       "</table>\n",
       "</div>"
      ],
      "text/plain": [
       "   Entry_id  age  pay_schedule  home_owner  income  current_address_year  \\\n",
       "0   7629673   40     bi-weekly           1    3135                     3   \n",
       "1   5335819   33  semi-monthly           0    3590                     2   \n",
       "2   8492423   21        weekly           0    2303                     8   \n",
       "3   7948313   26     bi-weekly           0    2795                     4   \n",
       "4   4297036   43     bi-weekly           0    5000                     1   \n",
       "\n",
       "   has_debt  amount_requested  risk_score  risk_score_2  risk_score_3  \\\n",
       "0         1               550      0.3620      0.737398      0.903517   \n",
       "1         1              1100      0.5385      0.617361      0.857560   \n",
       "2         1               600      0.7485      0.677109      0.758765   \n",
       "3         1               800      0.5080      0.738055      0.873204   \n",
       "4         1              1100      0.6910      0.798303      0.841747   \n",
       "\n",
       "   risk_score_4  risk_score_5  ext_quality_score  ext_quality_score_2  \\\n",
       "0      0.487712      0.515977           0.580918             0.380918   \n",
       "1      0.613487      0.665523           0.744634             0.744634   \n",
       "2      0.495609      0.664762           0.592556             0.492556   \n",
       "3      0.666437      0.700392           0.584130             0.684130   \n",
       "4      0.401971      0.568787           0.525905             0.725905   \n",
       "\n",
       "   inquiries_last_month  e_signed  time_employed  acct_time  \n",
       "0                    10         1            3.0   2.500000  \n",
       "1                    12         0            5.0   8.166667  \n",
       "2                     6         1            5.0   7.166667  \n",
       "3                    14         1            4.0   6.083333  \n",
       "4                     5         1            2.0   2.083333  "
      ]
     },
     "execution_count": 13,
     "metadata": {},
     "output_type": "execute_result"
    }
   ],
   "source": [
    "trainset.head()"
   ]
  },
  {
   "cell_type": "code",
   "execution_count": 75,
   "id": "e9a90a10",
   "metadata": {},
   "outputs": [
    {
     "data": {
      "image/png": "[encoded data removed]",
      "text/plain": [
       "<Figure size 432x288 with 1 Axes>"
      ]
     },
     "metadata": {
      "needs_background": "light"
     },
     "output_type": "display_data"
    }
   ],
   "source": [
    "sns.scatterplot(data = trainset, x = \"amount_requested\", y = \"income\", hue = \"e_signed\", palette = [\"darkgreen\", \"lightgreen\"])\n",
    "plt.title(\"income vs amount requested with e_signed classes\")\n",
    "plt.show()"
   ]
  },
  {
   "cell_type": "markdown",
   "id": "970632db",
   "metadata": {},
   "source": [
    "As suspected from the Data Evaluation phase, **amount_requested** seem to have outliers which will affect the health of the data and will inturn affect the model.\n",
    "\n",
    "No strong correlation is displayed but alot of the customers who complete the e_signing process do not have high amount requested, A lot of the high requested amounts are incomplete e-processes"
   ]
  },
  {
   "cell_type": "code",
   "execution_count": 63,
   "id": "fc6bd2c1",
   "metadata": {},
   "outputs": [
    {
     "data": {
      "image/png": "[encoded data removed]",
      "text/plain": [
       "<Figure size 720x360 with 2 Axes>"
      ]
     },
     "metadata": {
      "needs_background": "light"
     },
     "output_type": "display_data"
    }
   ],
   "source": [
    "fig, ax = plt.subplots(1, 2, figsize=(10, 5))\n",
    "sns.barplot(x='e_signed', y='income', data=trainset, ax=ax[0], color = \"lightgreen\")\n",
    "sns.barplot(x='e_signed', y='amount_requested', data=trainset, ax=ax[1], color = \"lightgreen\")\n",
    "plt.show()"
   ]
  },
  {
   "cell_type": "code",
   "execution_count": 64,
   "id": "7af84952",
   "metadata": {
    "scrolled": true
   },
   "outputs": [
    {
     "data": {
      "image/png": "[encoded data removed]",
      "text/plain": [
       "<Figure size 360x360 with 1 Axes>"
      ]
     },
     "metadata": {
      "needs_background": "light"
     },
     "output_type": "display_data"
    }
   ],
   "source": [
    "fig, ax = plt.subplots(figsize=(5, 5))\n",
    "sns.barplot(x='e_signed', y=trainset['inquiries_last_month'].value_counts(), data=trainset, color = \"lightgreen\");\n",
    "plt.title(\"inquires_last_month vs e_signed classes\")\n",
    "plt.show()"
   ]
  },
  {
   "cell_type": "code",
   "execution_count": 17,
   "id": "03380af4",
   "metadata": {},
   "outputs": [
    {
     "data": {
      "text/plain": [
       "30"
      ]
     },
     "execution_count": 17,
     "metadata": {},
     "output_type": "execute_result"
    }
   ],
   "source": [
    "trainset.inquiries_last_month.max()"
   ]
  },
  {
   "cell_type": "markdown",
   "id": "3f7d5487",
   "metadata": {},
   "source": [
    "More inquiries were made by customers that followed through with the e-signing process with a 30 as the max complaints lodged by one individual"
   ]
  },
  {
   "cell_type": "code",
   "execution_count": 18,
   "id": "7f0319c8",
   "metadata": {},
   "outputs": [
    {
     "data": {
      "text/plain": [
       "1    6766\n",
       "0    5750\n",
       "Name: e_signed, dtype: int64"
      ]
     },
     "execution_count": 18,
     "metadata": {},
     "output_type": "execute_result"
    }
   ],
   "source": [
    "# total number of individuals e_signed\n",
    "signed = trainset.e_signed.value_counts()\n",
    "signed"
   ]
  },
  {
   "cell_type": "code",
   "execution_count": 65,
   "id": "b9336dbe",
   "metadata": {},
   "outputs": [
    {
     "data": {
      "image/png": "[encoded data removed]",
      "text/plain": [
       "<Figure size 432x288 with 1 Axes>"
      ]
     },
     "metadata": {
      "needs_background": "light"
     },
     "output_type": "display_data"
    }
   ],
   "source": [
    "signed.plot(kind ='bar', color = 'lightgreen')\n",
    "plt.xticks(rotation=360)\n",
    "plt.title(\"e_signed\")\n",
    "plt.show()"
   ]
  },
  {
   "cell_type": "markdown",
   "id": "3925d62f",
   "metadata": {},
   "source": [
    "More than 6,766 customers used the e-signing process which is more than half of the total customer records"
   ]
  },
  {
   "cell_type": "code",
   "execution_count": 83,
   "id": "e860a978",
   "metadata": {},
   "outputs": [
    {
     "data": {
      "text/plain": [
       "<AxesSubplot:xlabel='age'>"
      ]
     },
     "execution_count": 83,
     "metadata": {},
     "output_type": "execute_result"
    },
    {
     "data": {
      "image/png": "[encoded data removed]",
      "text/plain": [
       "<Figure size 432x288 with 1 Axes>"
      ]
     },
     "metadata": {
      "needs_background": "light"
     },
     "output_type": "display_data"
    }
   ],
   "source": [
    "sns.boxplot(data=trainset, x=\"age\", palette = \"Greens\")"
   ]
  },
  {
   "cell_type": "code",
   "execution_count": 84,
   "id": "646c1207",
   "metadata": {},
   "outputs": [
    {
     "data": {
      "text/plain": [
       "<AxesSubplot:xlabel='income'>"
      ]
     },
     "execution_count": 84,
     "metadata": {},
     "output_type": "execute_result"
    },
    {
     "data": {
      "image/png": "[encoded data removed]",
      "text/plain": [
       "<Figure size 432x288 with 1 Axes>"
      ]
     },
     "metadata": {
      "needs_background": "light"
     },
     "output_type": "display_data"
    }
   ],
   "source": [
    "sns.boxplot(data=trainset, x=\"income\", palette = \"Greens\")"
   ]
  },
  {
   "cell_type": "code",
   "execution_count": 85,
   "id": "a8b0bd90",
   "metadata": {},
   "outputs": [
    {
     "data": {
      "text/plain": [
       "<AxesSubplot:xlabel='amount_requested'>"
      ]
     },
     "execution_count": 85,
     "metadata": {},
     "output_type": "execute_result"
    },
    {
     "data": {
      "image/png": "[encoded data removed]",
      "text/plain": [
       "<Figure size 432x288 with 1 Axes>"
      ]
     },
     "metadata": {
      "needs_background": "light"
     },
     "output_type": "display_data"
    }
   ],
   "source": [
    "sns.boxplot(data=trainset, x=\"amount_requested\", palette = \"Greens\")"
   ]
  },
  {
   "cell_type": "code",
   "execution_count": 86,
   "id": "3327f1d6",
   "metadata": {},
   "outputs": [
    {
     "data": {
      "text/plain": [
       "<AxesSubplot:xlabel='inquiries_last_month'>"
      ]
     },
     "execution_count": 86,
     "metadata": {},
     "output_type": "execute_result"
    },
    {
     "data": {
      "image/png": "[encoded data removed]",
      "text/plain": [
       "<Figure size 432x288 with 1 Axes>"
      ]
     },
     "metadata": {
      "needs_background": "light"
     },
     "output_type": "display_data"
    }
   ],
   "source": [
    "sns.boxplot(data=trainset, x=\"inquiries_last_month\", palette = \"Greens\")"
   ]
  },
  {
   "cell_type": "markdown",
   "id": "369a2529",
   "metadata": {},
   "source": [
    "From the boxplot analyses above, there are evidence of outliers in the dataset."
   ]
  },
  {
   "cell_type": "code",
   "execution_count": 29,
   "id": "c333e608",
   "metadata": {},
   "outputs": [
    {
     "data": {
      "text/html": [
       "<div>\n",
       "<style scoped>\n",
       "    .dataframe tbody tr th:only-of-type {\n",
       "        vertical-align: middle;\n",
       "    }\n",
       "\n",
       "    .dataframe tbody tr th {\n",
       "        vertical-align: top;\n",
       "    }\n",
       "\n",
       "    .dataframe thead th {\n",
       "        text-align: right;\n",
       "    }\n",
       "</style>\n",
       "<table border=\"1\" class=\"dataframe\">\n",
       "  <thead>\n",
       "    <tr style=\"text-align: right;\">\n",
       "      <th></th>\n",
       "      <th>risk_score</th>\n",
       "      <th>risk_score_2</th>\n",
       "      <th>risk_score_3</th>\n",
       "      <th>risk_score_4</th>\n",
       "      <th>risk_score_5</th>\n",
       "      <th>ext_quality_score</th>\n",
       "      <th>ext_quality_score_2</th>\n",
       "      <th>e_signed</th>\n",
       "    </tr>\n",
       "  </thead>\n",
       "  <tbody>\n",
       "    <tr>\n",
       "      <th>risk_score</th>\n",
       "      <td>1.000000</td>\n",
       "      <td>0.213145</td>\n",
       "      <td>0.099622</td>\n",
       "      <td>0.115621</td>\n",
       "      <td>0.130006</td>\n",
       "      <td>0.103552</td>\n",
       "      <td>0.106679</td>\n",
       "      <td>0.082468</td>\n",
       "    </tr>\n",
       "    <tr>\n",
       "      <th>risk_score_2</th>\n",
       "      <td>0.213145</td>\n",
       "      <td>1.000000</td>\n",
       "      <td>0.183195</td>\n",
       "      <td>0.224979</td>\n",
       "      <td>0.229172</td>\n",
       "      <td>0.210772</td>\n",
       "      <td>0.198172</td>\n",
       "      <td>0.010032</td>\n",
       "    </tr>\n",
       "    <tr>\n",
       "      <th>risk_score_3</th>\n",
       "      <td>0.099622</td>\n",
       "      <td>0.183195</td>\n",
       "      <td>1.000000</td>\n",
       "      <td>0.163886</td>\n",
       "      <td>0.478213</td>\n",
       "      <td>0.257891</td>\n",
       "      <td>0.265341</td>\n",
       "      <td>-0.028525</td>\n",
       "    </tr>\n",
       "    <tr>\n",
       "      <th>risk_score_4</th>\n",
       "      <td>0.115621</td>\n",
       "      <td>0.224979</td>\n",
       "      <td>0.163886</td>\n",
       "      <td>1.000000</td>\n",
       "      <td>0.585909</td>\n",
       "      <td>0.248139</td>\n",
       "      <td>0.234005</td>\n",
       "      <td>0.007270</td>\n",
       "    </tr>\n",
       "    <tr>\n",
       "      <th>risk_score_5</th>\n",
       "      <td>0.130006</td>\n",
       "      <td>0.229172</td>\n",
       "      <td>0.478213</td>\n",
       "      <td>0.585909</td>\n",
       "      <td>1.000000</td>\n",
       "      <td>0.291352</td>\n",
       "      <td>0.282420</td>\n",
       "      <td>-0.005864</td>\n",
       "    </tr>\n",
       "    <tr>\n",
       "      <th>ext_quality_score</th>\n",
       "      <td>0.103552</td>\n",
       "      <td>0.210772</td>\n",
       "      <td>0.257891</td>\n",
       "      <td>0.248139</td>\n",
       "      <td>0.291352</td>\n",
       "      <td>1.000000</td>\n",
       "      <td>0.362358</td>\n",
       "      <td>-0.029381</td>\n",
       "    </tr>\n",
       "    <tr>\n",
       "      <th>ext_quality_score_2</th>\n",
       "      <td>0.106679</td>\n",
       "      <td>0.198172</td>\n",
       "      <td>0.265341</td>\n",
       "      <td>0.234005</td>\n",
       "      <td>0.282420</td>\n",
       "      <td>0.362358</td>\n",
       "      <td>1.000000</td>\n",
       "      <td>-0.021148</td>\n",
       "    </tr>\n",
       "    <tr>\n",
       "      <th>e_signed</th>\n",
       "      <td>0.082468</td>\n",
       "      <td>0.010032</td>\n",
       "      <td>-0.028525</td>\n",
       "      <td>0.007270</td>\n",
       "      <td>-0.005864</td>\n",
       "      <td>-0.029381</td>\n",
       "      <td>-0.021148</td>\n",
       "      <td>1.000000</td>\n",
       "    </tr>\n",
       "  </tbody>\n",
       "</table>\n",
       "</div>"
      ],
      "text/plain": [
       "                     risk_score  risk_score_2  risk_score_3  risk_score_4  \\\n",
       "risk_score             1.000000      0.213145      0.099622      0.115621   \n",
       "risk_score_2           0.213145      1.000000      0.183195      0.224979   \n",
       "risk_score_3           0.099622      0.183195      1.000000      0.163886   \n",
       "risk_score_4           0.115621      0.224979      0.163886      1.000000   \n",
       "risk_score_5           0.130006      0.229172      0.478213      0.585909   \n",
       "ext_quality_score      0.103552      0.210772      0.257891      0.248139   \n",
       "ext_quality_score_2    0.106679      0.198172      0.265341      0.234005   \n",
       "e_signed               0.082468      0.010032     -0.028525      0.007270   \n",
       "\n",
       "                     risk_score_5  ext_quality_score  ext_quality_score_2  \\\n",
       "risk_score               0.130006           0.103552             0.106679   \n",
       "risk_score_2             0.229172           0.210772             0.198172   \n",
       "risk_score_3             0.478213           0.257891             0.265341   \n",
       "risk_score_4             0.585909           0.248139             0.234005   \n",
       "risk_score_5             1.000000           0.291352             0.282420   \n",
       "ext_quality_score        0.291352           1.000000             0.362358   \n",
       "ext_quality_score_2      0.282420           0.362358             1.000000   \n",
       "e_signed                -0.005864          -0.029381            -0.021148   \n",
       "\n",
       "                     e_signed  \n",
       "risk_score           0.082468  \n",
       "risk_score_2         0.010032  \n",
       "risk_score_3        -0.028525  \n",
       "risk_score_4         0.007270  \n",
       "risk_score_5        -0.005864  \n",
       "ext_quality_score   -0.029381  \n",
       "ext_quality_score_2 -0.021148  \n",
       "e_signed             1.000000  "
      ]
     },
     "execution_count": 29,
     "metadata": {},
     "output_type": "execute_result"
    }
   ],
   "source": [
    "trainset_corr_risk = trainset[['risk_score', 'risk_score_2', 'risk_score_3', 'risk_score_4', 'risk_score_5', 'ext_quality_score','ext_quality_score_2', 'e_signed']].corr()\n",
    "trainset_corr_risk"
   ]
  },
  {
   "cell_type": "code",
   "execution_count": 50,
   "id": "0d83a353",
   "metadata": {},
   "outputs": [
    {
     "data": {
      "text/plain": [
       "Text(0.5, 1.0, 'trainse_corr_risk')"
      ]
     },
     "execution_count": 50,
     "metadata": {},
     "output_type": "execute_result"
    },
    {
     "data": {
      "image/png": "[encoded data removed]",
      "text/plain": [
       "<Figure size 432x288 with 2 Axes>"
      ]
     },
     "metadata": {
      "needs_background": "light"
     },
     "output_type": "display_data"
    }
   ],
   "source": [
    "sns.heatmap(trainset_corr_risk, annot = True, cmap = \"Greens\")\n",
    "plt.title(\"trainse_corr_risk\")"
   ]
  },
  {
   "cell_type": "markdown",
   "id": "fbed8bd8",
   "metadata": {},
   "source": [
    "From the HeatMap above, it is evident that there is a weak corrlation between the customer risk_scores and ext_quality_scores columns, and the e-signing process."
   ]
  },
  {
   "cell_type": "markdown",
   "id": "e038962a",
   "metadata": {},
   "source": [
    "### Data Analysis Report\n",
    "##### From the data analysis we can see that:\n",
    "\n",
    "* Some of the columns similar orientation which prompts our use of features engineering to engineer new columns using features addition.\n",
    "* The data has outliers which provokes our use of IQR (Interquantile range) to filter out the outliers across the dataset.\n",
    "* Some of the features especially the customer risk scores and ext quality scores have little correlation to the e-signing process. To this effect, we employ the use of a gradient boosting algorithm to improve the performance of the model and punish under-performing features. "
   ]
  },
  {
   "cell_type": "code",
   "execution_count": 24,
   "id": "c2a818f0",
   "metadata": {},
   "outputs": [
    {
     "data": {
      "text/html": [
       "<div>\n",
       "<style scoped>\n",
       "    .dataframe tbody tr th:only-of-type {\n",
       "        vertical-align: middle;\n",
       "    }\n",
       "\n",
       "    .dataframe tbody tr th {\n",
       "        vertical-align: top;\n",
       "    }\n",
       "\n",
       "    .dataframe thead th {\n",
       "        text-align: right;\n",
       "    }\n",
       "</style>\n",
       "<table border=\"1\" class=\"dataframe\">\n",
       "  <thead>\n",
       "    <tr style=\"text-align: right;\">\n",
       "      <th></th>\n",
       "      <th>bi-weekly</th>\n",
       "      <th>monthly</th>\n",
       "      <th>semi-monthly</th>\n",
       "      <th>weekly</th>\n",
       "      <th>Entry_id</th>\n",
       "      <th>age</th>\n",
       "      <th>home_owner</th>\n",
       "      <th>income</th>\n",
       "      <th>current_address_year</th>\n",
       "      <th>has_debt</th>\n",
       "      <th>...</th>\n",
       "      <th>risk_score_2</th>\n",
       "      <th>risk_score_3</th>\n",
       "      <th>risk_score_4</th>\n",
       "      <th>risk_score_5</th>\n",
       "      <th>ext_quality_score</th>\n",
       "      <th>ext_quality_score_2</th>\n",
       "      <th>inquiries_last_month</th>\n",
       "      <th>e_signed</th>\n",
       "      <th>time_employed</th>\n",
       "      <th>acct_time</th>\n",
       "    </tr>\n",
       "  </thead>\n",
       "  <tbody>\n",
       "    <tr>\n",
       "      <th>0</th>\n",
       "      <td>1</td>\n",
       "      <td>0</td>\n",
       "      <td>0</td>\n",
       "      <td>0</td>\n",
       "      <td>7629673</td>\n",
       "      <td>40</td>\n",
       "      <td>1</td>\n",
       "      <td>3135</td>\n",
       "      <td>3</td>\n",
       "      <td>1</td>\n",
       "      <td>...</td>\n",
       "      <td>0.737398</td>\n",
       "      <td>0.903517</td>\n",
       "      <td>0.487712</td>\n",
       "      <td>0.515977</td>\n",
       "      <td>0.580918</td>\n",
       "      <td>0.380918</td>\n",
       "      <td>10</td>\n",
       "      <td>1</td>\n",
       "      <td>3.0</td>\n",
       "      <td>2.500000</td>\n",
       "    </tr>\n",
       "    <tr>\n",
       "      <th>1</th>\n",
       "      <td>0</td>\n",
       "      <td>0</td>\n",
       "      <td>1</td>\n",
       "      <td>0</td>\n",
       "      <td>5335819</td>\n",
       "      <td>33</td>\n",
       "      <td>0</td>\n",
       "      <td>3590</td>\n",
       "      <td>2</td>\n",
       "      <td>1</td>\n",
       "      <td>...</td>\n",
       "      <td>0.617361</td>\n",
       "      <td>0.857560</td>\n",
       "      <td>0.613487</td>\n",
       "      <td>0.665523</td>\n",
       "      <td>0.744634</td>\n",
       "      <td>0.744634</td>\n",
       "      <td>12</td>\n",
       "      <td>0</td>\n",
       "      <td>5.0</td>\n",
       "      <td>8.166667</td>\n",
       "    </tr>\n",
       "    <tr>\n",
       "      <th>2</th>\n",
       "      <td>0</td>\n",
       "      <td>0</td>\n",
       "      <td>0</td>\n",
       "      <td>1</td>\n",
       "      <td>8492423</td>\n",
       "      <td>21</td>\n",
       "      <td>0</td>\n",
       "      <td>2303</td>\n",
       "      <td>8</td>\n",
       "      <td>1</td>\n",
       "      <td>...</td>\n",
       "      <td>0.677109</td>\n",
       "      <td>0.758765</td>\n",
       "      <td>0.495609</td>\n",
       "      <td>0.664762</td>\n",
       "      <td>0.592556</td>\n",
       "      <td>0.492556</td>\n",
       "      <td>6</td>\n",
       "      <td>1</td>\n",
       "      <td>5.0</td>\n",
       "      <td>7.166667</td>\n",
       "    </tr>\n",
       "    <tr>\n",
       "      <th>3</th>\n",
       "      <td>1</td>\n",
       "      <td>0</td>\n",
       "      <td>0</td>\n",
       "      <td>0</td>\n",
       "      <td>7948313</td>\n",
       "      <td>26</td>\n",
       "      <td>0</td>\n",
       "      <td>2795</td>\n",
       "      <td>4</td>\n",
       "      <td>1</td>\n",
       "      <td>...</td>\n",
       "      <td>0.738055</td>\n",
       "      <td>0.873204</td>\n",
       "      <td>0.666437</td>\n",
       "      <td>0.700392</td>\n",
       "      <td>0.584130</td>\n",
       "      <td>0.684130</td>\n",
       "      <td>14</td>\n",
       "      <td>1</td>\n",
       "      <td>4.0</td>\n",
       "      <td>6.083333</td>\n",
       "    </tr>\n",
       "    <tr>\n",
       "      <th>4</th>\n",
       "      <td>1</td>\n",
       "      <td>0</td>\n",
       "      <td>0</td>\n",
       "      <td>0</td>\n",
       "      <td>4297036</td>\n",
       "      <td>43</td>\n",
       "      <td>0</td>\n",
       "      <td>5000</td>\n",
       "      <td>1</td>\n",
       "      <td>1</td>\n",
       "      <td>...</td>\n",
       "      <td>0.798303</td>\n",
       "      <td>0.841747</td>\n",
       "      <td>0.401971</td>\n",
       "      <td>0.568787</td>\n",
       "      <td>0.525905</td>\n",
       "      <td>0.725905</td>\n",
       "      <td>5</td>\n",
       "      <td>1</td>\n",
       "      <td>2.0</td>\n",
       "      <td>2.083333</td>\n",
       "    </tr>\n",
       "  </tbody>\n",
       "</table>\n",
       "<p>5 rows × 22 columns</p>\n",
       "</div>"
      ],
      "text/plain": [
       "   bi-weekly  monthly  semi-monthly  weekly  Entry_id  age  home_owner  \\\n",
       "0          1        0             0       0   7629673   40           1   \n",
       "1          0        0             1       0   5335819   33           0   \n",
       "2          0        0             0       1   8492423   21           0   \n",
       "3          1        0             0       0   7948313   26           0   \n",
       "4          1        0             0       0   4297036   43           0   \n",
       "\n",
       "   income  current_address_year  has_debt  ...  risk_score_2  risk_score_3  \\\n",
       "0    3135                     3         1  ...      0.737398      0.903517   \n",
       "1    3590                     2         1  ...      0.617361      0.857560   \n",
       "2    2303                     8         1  ...      0.677109      0.758765   \n",
       "3    2795                     4         1  ...      0.738055      0.873204   \n",
       "4    5000                     1         1  ...      0.798303      0.841747   \n",
       "\n",
       "   risk_score_4  risk_score_5  ext_quality_score  ext_quality_score_2  \\\n",
       "0      0.487712      0.515977           0.580918             0.380918   \n",
       "1      0.613487      0.665523           0.744634             0.744634   \n",
       "2      0.495609      0.664762           0.592556             0.492556   \n",
       "3      0.666437      0.700392           0.584130             0.684130   \n",
       "4      0.401971      0.568787           0.525905             0.725905   \n",
       "\n",
       "   inquiries_last_month  e_signed  time_employed  acct_time  \n",
       "0                    10         1            3.0   2.500000  \n",
       "1                    12         0            5.0   8.166667  \n",
       "2                     6         1            5.0   7.166667  \n",
       "3                    14         1            4.0   6.083333  \n",
       "4                     5         1            2.0   2.083333  \n",
       "\n",
       "[5 rows x 22 columns]"
      ]
     },
     "execution_count": 24,
     "metadata": {},
     "output_type": "execute_result"
    }
   ],
   "source": [
    "one_hot_encoding = pd.get_dummies (trainset[\"pay_schedule\"])\n",
    "trainset = pd.concat([one_hot_encoding, trainset], axis = 1)\n",
    "trainset= trainset.drop([\"pay_schedule\"], axis = 1)\n",
    "trainset.head()"
   ]
  },
  {
   "cell_type": "markdown",
   "id": "668c9623",
   "metadata": {},
   "source": [
    "We use One-Hot Encoding to transform categorical column : \"pay_schedule\" to a numerical colummn for model fitting."
   ]
  },
  {
   "cell_type": "code",
   "execution_count": 25,
   "id": "a0ab150b",
   "metadata": {},
   "outputs": [],
   "source": [
    "features = [\"age\",\"income\",\"amount_requested\",\"inquiries_last_month\"]\n",
    "\n",
    "for feature in features:\n",
    "    Q1 = trainset[feature].quantile(0.25)\n",
    "    Q3 = trainset[feature].quantile(0.75)\n",
    "\n",
    "    IQR = Q3-Q1\n",
    "\n",
    "    max_thr = Q3 + 1.5*IQR\n",
    "    min_thr = Q1 - 1.5*IQR\n",
    "    \n",
    "    trainset = trainset[(trainset[feature]<max_thr)  & (trainset[feature]>min_thr)]"
   ]
  },
  {
   "cell_type": "markdown",
   "id": "cbc46615",
   "metadata": {},
   "source": [
    "Taking insights from the scatter-plots analyses above, the inter-quantile range is used to remove outliers in columns: [\"age\",\"income\",\"amount_requested\",\"inquiries_last_month\" ] above the maximum threashold and below minimum threashold."
   ]
  },
  {
   "cell_type": "code",
   "execution_count": 26,
   "id": "12cf8802",
   "metadata": {},
   "outputs": [],
   "source": [
    "trainset.drop(\"Entry_id\", axis = 1, inplace = True)\n",
    "X = trainset.drop(\"e_signed\", axis = 1)\n",
    "y = trainset[\"e_signed\"]"
   ]
  },
  {
   "cell_type": "markdown",
   "id": "011f16f2",
   "metadata": {},
   "source": [
    "The trainset dataset is splitted into X and y. X is the dataset containing the independent features used to predict our target column. y is the dataset containing out target column : \"e_signed\""
   ]
  },
  {
   "cell_type": "code",
   "execution_count": 36,
   "id": "a570804c",
   "metadata": {},
   "outputs": [
    {
     "name": "stdout",
     "output_type": "stream",
     "text": [
      "Requirement already satisfied: XGBoost in c:\\users\\danie\\anaconda3\\lib\\site-packages (1.6.2)\n",
      "Requirement already satisfied: scipy in c:\\users\\danie\\anaconda3\\lib\\site-packages (from XGBoost) (1.7.1)\n",
      "Requirement already satisfied: numpy in c:\\users\\danie\\anaconda3\\lib\\site-packages (from XGBoost) (1.20.3)\n"
     ]
    }
   ],
   "source": [
    "!pip install XGBoost"
   ]
  },
  {
   "cell_type": "code",
   "execution_count": 33,
   "id": "48125eb3",
   "metadata": {},
   "outputs": [],
   "source": [
    "from sklearn.model_selection import RepeatedStratifiedKFold,cross_val_score,GridSearchCV\n",
    "from sklearn.experimental import enable_hist_gradient_boosting\n",
    "from sklearn.ensemble import HistGradientBoostingClassifier"
   ]
  },
  {
   "cell_type": "code",
   "execution_count": 39,
   "id": "13ed2922",
   "metadata": {},
   "outputs": [],
   "source": [
    "from xgboost import XGBClassifier"
   ]
  },
  {
   "cell_type": "code",
   "execution_count": null,
   "id": "0cb0dcaa",
   "metadata": {},
   "outputs": [],
   "source": [
    "from xgboost import XGBClassifier\n",
    "\n",
    "def hyperParameterTuning(X, y):\n",
    "    param_tuning = {\n",
    "        'learning_rate': [0.01, 0.1],\n",
    "        'max_depth': [3, 5, 7, 10],\n",
    "        'min_child_weight': [1, 3, 5],\n",
    "        'subsample': [0.5, 0.7],\n",
    "        'colsample_bytree': [0.5, 0.7],\n",
    "        'n_estimators' : [100, 200, 500],\n",
    "        'objective': ['reg:squarederror']\n",
    "    }\n",
    "\n",
    "    xgb_model = XGBClassifier()\n",
    "\n",
    "    gsearch = GridSearchCV(estimator = xgb_model,\n",
    "                           param_grid = param_tuning,                        \n",
    "                           #scoring = 'neg_mean_absolute_error', #MAE\n",
    "                           scoring = 'roc_auc',  #MSE\n",
    "                           cv = 5,\n",
    "                           n_jobs = -1,\n",
    "                           verbose = 1)"
   ]
  },
  {
   "cell_type": "markdown",
   "id": "e16b487f",
   "metadata": {},
   "source": [
    "We run hyperparameter tuning for our model and the results of the is shown below"
   ]
  },
  {
   "cell_type": "code",
   "execution_count": 47,
   "id": "a21e9ea9",
   "metadata": {},
   "outputs": [],
   "source": [
    " param = {'colsample_bytree': 0.5,\n",
    " 'learning_rate': 0.01,\n",
    " 'max_depth': 7,\n",
    " 'min_child_weight': 3,\n",
    " 'n_estimators': 500,\n",
    " 'objective': 'reg:squarederror',\n",
    " 'subsample': 0.7}\n",
    "\n",
    "xgb_model = XGBClassifier(scoring = 'roc_auc',**param)"
   ]
  },
  {
   "cell_type": "code",
   "execution_count": 48,
   "id": "2ae8d5eb",
   "metadata": {},
   "outputs": [
    {
     "name": "stdout",
     "output_type": "stream",
     "text": [
      "[07:38:26] WARNING: C:/Users/administrator/workspace/xgboost-win64_release_1.6.0/src/learner.cc:627: \n",
      "Parameters: { \"scoring\" } might not be used.\n",
      "\n",
      "  This could be a false alarm, with some parameters getting used by language bindings but\n",
      "  then being mistakenly passed down to XGBoost core, or some parameter actually being used\n",
      "  but getting flagged wrongly here. Please open an issue if you find any such cases.\n",
      "\n",
      "\n"
     ]
    },
    {
     "data": {
      "text/plain": [
       "0.8411038899877555"
      ]
     },
     "execution_count": 48,
     "metadata": {},
     "output_type": "execute_result"
    }
   ],
   "source": [
    "xgb_model.fit(X,y)\n",
    "xgb_model.score(X,y)"
   ]
  },
  {
   "cell_type": "markdown",
   "id": "d6931822",
   "metadata": {},
   "source": [
    "### We run the  same transformation we used for our trainset for our testset"
   ]
  },
  {
   "cell_type": "code",
   "execution_count": 42,
   "id": "676e0861",
   "metadata": {},
   "outputs": [],
   "source": [
    "# Add years_employed column to months_employed column and create a new column with the result.\n",
    "# We also drop the two columns.\n",
    "testset[\"time_employed\"] = testset.years_employed +(testset.months_employed/12)\n",
    "testset.drop([\"years_employed\",\"months_employed\"],axis = 1, inplace=True)\n",
    "\n",
    "# Add personal_account_y column to personal_account_m column and create a new column with the result.\n",
    "# We also drop the two columns.\n",
    "testset[\"acct_time\"] = testset.personal_account_y +(testset.personal_account_m/12)\n",
    "testset.drop([\"personal_account_y\",\"personal_account_m\"],axis = 1, inplace=True)\n",
    "\n",
    "# We divide risk_score by 100000,\n",
    "testset[\"risk_score\"] = (testset.risk_score/100000)"
   ]
  },
  {
   "cell_type": "code",
   "execution_count": 43,
   "id": "f70fd336",
   "metadata": {},
   "outputs": [
    {
     "data": {
      "text/html": [
       "<div>\n",
       "<style scoped>\n",
       "    .dataframe tbody tr th:only-of-type {\n",
       "        vertical-align: middle;\n",
       "    }\n",
       "\n",
       "    .dataframe tbody tr th {\n",
       "        vertical-align: top;\n",
       "    }\n",
       "\n",
       "    .dataframe thead th {\n",
       "        text-align: right;\n",
       "    }\n",
       "</style>\n",
       "<table border=\"1\" class=\"dataframe\">\n",
       "  <thead>\n",
       "    <tr style=\"text-align: right;\">\n",
       "      <th></th>\n",
       "      <th>bi-weekly</th>\n",
       "      <th>monthly</th>\n",
       "      <th>semi-monthly</th>\n",
       "      <th>weekly</th>\n",
       "      <th>Entry_id</th>\n",
       "      <th>age</th>\n",
       "      <th>home_owner</th>\n",
       "      <th>income</th>\n",
       "      <th>current_address_year</th>\n",
       "      <th>has_debt</th>\n",
       "      <th>...</th>\n",
       "      <th>risk_score</th>\n",
       "      <th>risk_score_2</th>\n",
       "      <th>risk_score_3</th>\n",
       "      <th>risk_score_4</th>\n",
       "      <th>risk_score_5</th>\n",
       "      <th>ext_quality_score</th>\n",
       "      <th>ext_quality_score_2</th>\n",
       "      <th>inquiries_last_month</th>\n",
       "      <th>time_employed</th>\n",
       "      <th>acct_time</th>\n",
       "    </tr>\n",
       "  </thead>\n",
       "  <tbody>\n",
       "    <tr>\n",
       "      <th>0</th>\n",
       "      <td>0</td>\n",
       "      <td>0</td>\n",
       "      <td>0</td>\n",
       "      <td>1</td>\n",
       "      <td>3560428</td>\n",
       "      <td>61</td>\n",
       "      <td>0</td>\n",
       "      <td>3180</td>\n",
       "      <td>3</td>\n",
       "      <td>1</td>\n",
       "      <td>...</td>\n",
       "      <td>0.3015</td>\n",
       "      <td>0.738510</td>\n",
       "      <td>0.881027</td>\n",
       "      <td>0.713423</td>\n",
       "      <td>0.826402</td>\n",
       "      <td>0.730720</td>\n",
       "      <td>0.630720</td>\n",
       "      <td>9</td>\n",
       "      <td>6.00</td>\n",
       "      <td>7.166667</td>\n",
       "    </tr>\n",
       "    <tr>\n",
       "      <th>1</th>\n",
       "      <td>0</td>\n",
       "      <td>0</td>\n",
       "      <td>0</td>\n",
       "      <td>1</td>\n",
       "      <td>6934997</td>\n",
       "      <td>23</td>\n",
       "      <td>0</td>\n",
       "      <td>1540</td>\n",
       "      <td>0</td>\n",
       "      <td>1</td>\n",
       "      <td>...</td>\n",
       "      <td>0.3455</td>\n",
       "      <td>0.642993</td>\n",
       "      <td>0.766554</td>\n",
       "      <td>0.595018</td>\n",
       "      <td>0.762284</td>\n",
       "      <td>0.531712</td>\n",
       "      <td>0.531712</td>\n",
       "      <td>7</td>\n",
       "      <td>0.50</td>\n",
       "      <td>1.583333</td>\n",
       "    </tr>\n",
       "    <tr>\n",
       "      <th>2</th>\n",
       "      <td>1</td>\n",
       "      <td>0</td>\n",
       "      <td>0</td>\n",
       "      <td>0</td>\n",
       "      <td>5682812</td>\n",
       "      <td>40</td>\n",
       "      <td>0</td>\n",
       "      <td>5230</td>\n",
       "      <td>1</td>\n",
       "      <td>1</td>\n",
       "      <td>...</td>\n",
       "      <td>0.4215</td>\n",
       "      <td>0.665224</td>\n",
       "      <td>0.960832</td>\n",
       "      <td>0.767828</td>\n",
       "      <td>0.778831</td>\n",
       "      <td>0.792552</td>\n",
       "      <td>0.592552</td>\n",
       "      <td>8</td>\n",
       "      <td>6.00</td>\n",
       "      <td>7.166667</td>\n",
       "    </tr>\n",
       "    <tr>\n",
       "      <th>3</th>\n",
       "      <td>0</td>\n",
       "      <td>0</td>\n",
       "      <td>1</td>\n",
       "      <td>0</td>\n",
       "      <td>6493191</td>\n",
       "      <td>32</td>\n",
       "      <td>0</td>\n",
       "      <td>5260</td>\n",
       "      <td>3</td>\n",
       "      <td>1</td>\n",
       "      <td>...</td>\n",
       "      <td>0.6405</td>\n",
       "      <td>0.652429</td>\n",
       "      <td>0.802433</td>\n",
       "      <td>0.593816</td>\n",
       "      <td>0.560389</td>\n",
       "      <td>0.569459</td>\n",
       "      <td>0.369459</td>\n",
       "      <td>3</td>\n",
       "      <td>0.25</td>\n",
       "      <td>4.083333</td>\n",
       "    </tr>\n",
       "    <tr>\n",
       "      <th>4</th>\n",
       "      <td>1</td>\n",
       "      <td>0</td>\n",
       "      <td>0</td>\n",
       "      <td>0</td>\n",
       "      <td>8990111</td>\n",
       "      <td>61</td>\n",
       "      <td>1</td>\n",
       "      <td>3270</td>\n",
       "      <td>0</td>\n",
       "      <td>1</td>\n",
       "      <td>...</td>\n",
       "      <td>0.6170</td>\n",
       "      <td>0.659736</td>\n",
       "      <td>0.937287</td>\n",
       "      <td>0.852323</td>\n",
       "      <td>0.785698</td>\n",
       "      <td>0.632466</td>\n",
       "      <td>0.732466</td>\n",
       "      <td>7</td>\n",
       "      <td>4.00</td>\n",
       "      <td>3.333333</td>\n",
       "    </tr>\n",
       "  </tbody>\n",
       "</table>\n",
       "<p>5 rows × 21 columns</p>\n",
       "</div>"
      ],
      "text/plain": [
       "   bi-weekly  monthly  semi-monthly  weekly  Entry_id  age  home_owner  \\\n",
       "0          0        0             0       1   3560428   61           0   \n",
       "1          0        0             0       1   6934997   23           0   \n",
       "2          1        0             0       0   5682812   40           0   \n",
       "3          0        0             1       0   6493191   32           0   \n",
       "4          1        0             0       0   8990111   61           1   \n",
       "\n",
       "   income  current_address_year  has_debt  ...  risk_score  risk_score_2  \\\n",
       "0    3180                     3         1  ...      0.3015      0.738510   \n",
       "1    1540                     0         1  ...      0.3455      0.642993   \n",
       "2    5230                     1         1  ...      0.4215      0.665224   \n",
       "3    5260                     3         1  ...      0.6405      0.652429   \n",
       "4    3270                     0         1  ...      0.6170      0.659736   \n",
       "\n",
       "   risk_score_3  risk_score_4  risk_score_5  ext_quality_score  \\\n",
       "0      0.881027      0.713423      0.826402           0.730720   \n",
       "1      0.766554      0.595018      0.762284           0.531712   \n",
       "2      0.960832      0.767828      0.778831           0.792552   \n",
       "3      0.802433      0.593816      0.560389           0.569459   \n",
       "4      0.937287      0.852323      0.785698           0.632466   \n",
       "\n",
       "   ext_quality_score_2  inquiries_last_month  time_employed  acct_time  \n",
       "0             0.630720                     9           6.00   7.166667  \n",
       "1             0.531712                     7           0.50   1.583333  \n",
       "2             0.592552                     8           6.00   7.166667  \n",
       "3             0.369459                     3           0.25   4.083333  \n",
       "4             0.732466                     7           4.00   3.333333  \n",
       "\n",
       "[5 rows x 21 columns]"
      ]
     },
     "execution_count": 43,
     "metadata": {},
     "output_type": "execute_result"
    }
   ],
   "source": [
    "# We employ one-hot encoding to convert the categorical data to numerical data\n",
    "one_hot_encoding_2 = pd.get_dummies (testset[\"pay_schedule\"])\n",
    "testset = pd.concat([one_hot_encoding_2, testset], axis = 1)\n",
    "testset= testset.drop([\"pay_schedule\"], axis = 1)\n",
    "testset.head()"
   ]
  },
  {
   "cell_type": "code",
   "execution_count": 44,
   "id": "b7da7e2b",
   "metadata": {},
   "outputs": [],
   "source": [
    "# We drop the Entry_id from the dataset and pass into another variable.\n",
    "test = testset.drop(\"Entry_id\", axis = 1)\n",
    "sub = testset[\"Entry_id\"]"
   ]
  },
  {
   "cell_type": "code",
   "execution_count": 45,
   "id": "280366b6",
   "metadata": {},
   "outputs": [],
   "source": [
    "# The trained model is used to predict the probability of our target column using the test data.\n",
    "test_pred = xgb_model.predict_proba(test)[:,1]"
   ]
  },
  {
   "cell_type": "code",
   "execution_count": 46,
   "id": "f7512746",
   "metadata": {},
   "outputs": [
    {
     "data": {
      "text/html": [
       "<div>\n",
       "<style scoped>\n",
       "    .dataframe tbody tr th:only-of-type {\n",
       "        vertical-align: middle;\n",
       "    }\n",
       "\n",
       "    .dataframe tbody tr th {\n",
       "        vertical-align: top;\n",
       "    }\n",
       "\n",
       "    .dataframe thead th {\n",
       "        text-align: right;\n",
       "    }\n",
       "</style>\n",
       "<table border=\"1\" class=\"dataframe\">\n",
       "  <thead>\n",
       "    <tr style=\"text-align: right;\">\n",
       "      <th></th>\n",
       "      <th>Entry_id</th>\n",
       "      <th>e_signed</th>\n",
       "    </tr>\n",
       "  </thead>\n",
       "  <tbody>\n",
       "    <tr>\n",
       "      <th>0</th>\n",
       "      <td>3560428</td>\n",
       "      <td>0.372645</td>\n",
       "    </tr>\n",
       "    <tr>\n",
       "      <th>1</th>\n",
       "      <td>6934997</td>\n",
       "      <td>0.802099</td>\n",
       "    </tr>\n",
       "    <tr>\n",
       "      <th>2</th>\n",
       "      <td>5682812</td>\n",
       "      <td>0.543784</td>\n",
       "    </tr>\n",
       "    <tr>\n",
       "      <th>3</th>\n",
       "      <td>6493191</td>\n",
       "      <td>0.511851</td>\n",
       "    </tr>\n",
       "    <tr>\n",
       "      <th>4</th>\n",
       "      <td>8990111</td>\n",
       "      <td>0.358980</td>\n",
       "    </tr>\n",
       "    <tr>\n",
       "      <th>...</th>\n",
       "      <td>...</td>\n",
       "      <td>...</td>\n",
       "    </tr>\n",
       "    <tr>\n",
       "      <th>5387</th>\n",
       "      <td>9056719</td>\n",
       "      <td>0.679551</td>\n",
       "    </tr>\n",
       "    <tr>\n",
       "      <th>5388</th>\n",
       "      <td>3077109</td>\n",
       "      <td>0.644068</td>\n",
       "    </tr>\n",
       "    <tr>\n",
       "      <th>5389</th>\n",
       "      <td>1807355</td>\n",
       "      <td>0.562960</td>\n",
       "    </tr>\n",
       "    <tr>\n",
       "      <th>5390</th>\n",
       "      <td>3983229</td>\n",
       "      <td>0.475488</td>\n",
       "    </tr>\n",
       "    <tr>\n",
       "      <th>5391</th>\n",
       "      <td>9442442</td>\n",
       "      <td>0.541569</td>\n",
       "    </tr>\n",
       "  </tbody>\n",
       "</table>\n",
       "<p>5392 rows × 2 columns</p>\n",
       "</div>"
      ],
      "text/plain": [
       "      Entry_id  e_signed\n",
       "0      3560428  0.372645\n",
       "1      6934997  0.802099\n",
       "2      5682812  0.543784\n",
       "3      6493191  0.511851\n",
       "4      8990111  0.358980\n",
       "...        ...       ...\n",
       "5387   9056719  0.679551\n",
       "5388   3077109  0.644068\n",
       "5389   1807355  0.562960\n",
       "5390   3983229  0.475488\n",
       "5391   9442442  0.541569\n",
       "\n",
       "[5392 rows x 2 columns]"
      ]
     },
     "execution_count": 46,
     "metadata": {},
     "output_type": "execute_result"
    }
   ],
   "source": [
    "# The result of the prediction is passed into a dataframe.\n",
    "sub = pd.DataFrame({\"Entry_id\":testset.Entry_id,\"e_signed\":test_pred})\n",
    "sub"
   ]
  },
  {
   "cell_type": "code",
   "execution_count": null,
   "id": "632b15d0",
   "metadata": {},
   "outputs": [],
   "source": [
    "# The dataframe is saved to a CSV file.\n",
    "sub.to_csv(\"submission_file.csv\", index=False)"
   ]
  }
 ],
 "metadata": {
  "kernelspec": {
   "display_name": "Python 3 (ipykernel)",
   "language": "python",
   "name": "python3"
  },
  "language_info": {
   "codemirror_mode": {
    "name": "ipython",
    "version": 3
   },
   "file_extension": ".py",
   "mimetype": "text/x-python",
   "name": "python",
   "nbconvert_exporter": "python",
   "pygments_lexer": "ipython3",
   "version": "3.9.7"
  }
 },
 "nbformat": 4,
 "nbformat_minor": 5
}
